{
 "cells": [
  {
   "cell_type": "markdown",
   "metadata": {},
   "source": [
    "####  Calculate the Landy-Szalay monopole for one SV tile with nbodykit.\n",
    "\n",
    "Annoyingly, the nbodykit and DESI environments do not mesh, at all.  So it's necessary \n",
    "to first create the data tile with the DESI env (using the footprint tools) by running \n",
    "the relevant cells, then switch to nbodykit for running the remainder."
   ]
  },
  {
   "cell_type": "code",
   "execution_count": 1,
   "metadata": {},
   "outputs": [],
   "source": [
    "import os\n",
    "import numpy                                        as     np\n",
    "import astropy.io.fits                              as     fits\n",
    "import pylab                                        as     pl\n",
    "\n",
    "from   astropy.table                                import Table"
   ]
  },
  {
   "cell_type": "code",
   "execution_count": 2,
   "metadata": {},
   "outputs": [],
   "source": [
    "from   desimodel.footprint                          import is_point_in_desi"
   ]
  },
  {
   "cell_type": "code",
   "execution_count": null,
   "metadata": {},
   "outputs": [],
   "source": []
  },
  {
   "cell_type": "code",
   "execution_count": 3,
   "metadata": {},
   "outputs": [],
   "source": [
    "##  Set up the usual base directories. \n",
    "basedir    = os.path.join(os.getenv('SCRATCH'), 'svdc-summer2018', 'master')\n",
    "samplefile = os.path.join(basedir, 'bgs-gama-sample.fits')\n",
    "tilesfile  = os.path.join(basedir, 'tiles', 'bgs-gama-tiles-bright.fits')"
   ]
  },
  {
   "cell_type": "markdown",
   "metadata": {},
   "source": [
    "####  Prep. the galaxies for one SV tile, write to .fits for the remainder."
   ]
  },
  {
   "cell_type": "code",
   "execution_count": 4,
   "metadata": {},
   "outputs": [
    {
     "data": {
      "text/html": [
       "&lt;Table length=94&gt;\n",
       "<table id=\"table46913245301784\" class=\"table-striped table-bordered table-condensed\">\n",
       "<thead><tr><th>TILEID</th><th>RA</th><th>DEC</th><th>PASS</th><th>IN_DESI</th><th>EBV_MED</th><th>AIRMASS</th><th>STAR_DENSITY</th><th>EXPOSEFAC</th><th>PROGRAM</th><th>OBSCONDITIONS</th></tr></thead>\n",
       "<thead><tr><th>int32</th><th>float64</th><th>float64</th><th>int16</th><th>int16</th><th>float32</th><th>float32</th><th>float32</th><th>float32</th><th>str6</th><th>int32</th></tr></thead>\n",
       "<tr><td>100000</td><td>212.399993896</td><td>-0.819999992847</td><td>5</td><td>1</td><td>0.0504712</td><td>1.0</td><td>1.0</td><td>1.0</td><td>BRIGHT</td><td>4</td></tr>\n",
       "<tr><td>100001</td><td>213.199996948</td><td>-0.800000011921</td><td>5</td><td>1</td><td>0.0498524</td><td>1.0</td><td>1.0</td><td>1.0</td><td>BRIGHT</td><td>4</td></tr>\n",
       "<tr><td>100002</td><td>214.0</td><td>-0.77999997139</td><td>5</td><td>1</td><td>0.049985</td><td>1.0</td><td>1.0</td><td>1.0</td><td>BRIGHT</td><td>4</td></tr>\n",
       "<tr><td>100003</td><td>214.799987793</td><td>-0.759999990463</td><td>5</td><td>1</td><td>0.0459586</td><td>1.0</td><td>1.0</td><td>1.0</td><td>BRIGHT</td><td>4</td></tr>\n",
       "<tr><td>100004</td><td>215.599990845</td><td>-0.819999992847</td><td>5</td><td>1</td><td>0.0451689</td><td>1.0</td><td>1.0</td><td>1.0</td><td>BRIGHT</td><td>4</td></tr>\n",
       "<tr><td>100005</td><td>216.399993896</td><td>-0.800000011921</td><td>5</td><td>1</td><td>0.042806</td><td>1.0</td><td>1.0</td><td>1.0</td><td>BRIGHT</td><td>4</td></tr>\n",
       "<tr><td>100006</td><td>217.199996948</td><td>-0.77999997139</td><td>5</td><td>1</td><td>0.0435473</td><td>1.0</td><td>1.0</td><td>1.0</td><td>BRIGHT</td><td>4</td></tr>\n",
       "<tr><td>100007</td><td>218.0</td><td>-0.759999990463</td><td>5</td><td>1</td><td>0.042242</td><td>1.0</td><td>1.0</td><td>1.0</td><td>BRIGHT</td><td>4</td></tr>\n",
       "<tr><td>100008</td><td>218.799987793</td><td>-0.819999992847</td><td>5</td><td>1</td><td>0.042335</td><td>1.0</td><td>1.0</td><td>1.0</td><td>BRIGHT</td><td>4</td></tr>\n",
       "<tr><td>100009</td><td>219.599990845</td><td>-0.800000011921</td><td>5</td><td>1</td><td>0.0415368</td><td>1.0</td><td>1.0</td><td>1.0</td><td>BRIGHT</td><td>4</td></tr>\n",
       "<tr><td>...</td><td>...</td><td>...</td><td>...</td><td>...</td><td>...</td><td>...</td><td>...</td><td>...</td><td>...</td><td>...</td></tr>\n",
       "<tr><td>100084</td><td>31.1000003815</td><td>-5.0</td><td>5</td><td>1</td><td>0.0235513</td><td>1.0</td><td>1.0</td><td>1.0</td><td>BRIGHT</td><td>4</td></tr>\n",
       "<tr><td>100085</td><td>31.8999996185</td><td>-5.0</td><td>5</td><td>1</td><td>0.0227705</td><td>1.0</td><td>1.0</td><td>1.0</td><td>BRIGHT</td><td>4</td></tr>\n",
       "<tr><td>100086</td><td>32.7000007629</td><td>-5.0</td><td>5</td><td>1</td><td>0.0222749</td><td>1.0</td><td>1.0</td><td>1.0</td><td>BRIGHT</td><td>4</td></tr>\n",
       "<tr><td>100087</td><td>33.5</td><td>-5.0</td><td>5</td><td>1</td><td>0.02236</td><td>1.0</td><td>1.0</td><td>1.0</td><td>BRIGHT</td><td>4</td></tr>\n",
       "<tr><td>100088</td><td>34.2999992371</td><td>-5.0</td><td>5</td><td>1</td><td>0.0223557</td><td>1.0</td><td>1.0</td><td>1.0</td><td>BRIGHT</td><td>4</td></tr>\n",
       "<tr><td>100089</td><td>35.0999984741</td><td>-5.0</td><td>5</td><td>1</td><td>0.0228831</td><td>1.0</td><td>1.0</td><td>1.0</td><td>BRIGHT</td><td>4</td></tr>\n",
       "<tr><td>100090</td><td>35.9000015259</td><td>-5.0</td><td>5</td><td>1</td><td>0.024827</td><td>1.0</td><td>1.0</td><td>1.0</td><td>BRIGHT</td><td>4</td></tr>\n",
       "<tr><td>100091</td><td>36.7000007629</td><td>-5.0</td><td>5</td><td>1</td><td>0.0259904</td><td>1.0</td><td>1.0</td><td>1.0</td><td>BRIGHT</td><td>4</td></tr>\n",
       "<tr><td>100092</td><td>37.5</td><td>-5.0</td><td>5</td><td>1</td><td>0.0256046</td><td>1.0</td><td>1.0</td><td>1.0</td><td>BRIGHT</td><td>4</td></tr>\n",
       "<tr><td>100093</td><td>38.2999992371</td><td>-5.0</td><td>5</td><td>1</td><td>0.0250538</td><td>1.0</td><td>1.0</td><td>1.0</td><td>BRIGHT</td><td>4</td></tr>\n",
       "</table>"
      ],
      "text/plain": [
       "<Table length=94>\n",
       "TILEID       RA            DEC        PASS ... EXPOSEFAC PROGRAM OBSCONDITIONS\n",
       "int32     float64        float64     int16 ...  float32    str6      int32    \n",
       "------ ------------- --------------- ----- ... --------- ------- -------------\n",
       "100000 212.399993896 -0.819999992847     5 ...       1.0  BRIGHT             4\n",
       "100001 213.199996948 -0.800000011921     5 ...       1.0  BRIGHT             4\n",
       "100002         214.0  -0.77999997139     5 ...       1.0  BRIGHT             4\n",
       "100003 214.799987793 -0.759999990463     5 ...       1.0  BRIGHT             4\n",
       "100004 215.599990845 -0.819999992847     5 ...       1.0  BRIGHT             4\n",
       "100005 216.399993896 -0.800000011921     5 ...       1.0  BRIGHT             4\n",
       "100006 217.199996948  -0.77999997139     5 ...       1.0  BRIGHT             4\n",
       "100007         218.0 -0.759999990463     5 ...       1.0  BRIGHT             4\n",
       "100008 218.799987793 -0.819999992847     5 ...       1.0  BRIGHT             4\n",
       "100009 219.599990845 -0.800000011921     5 ...       1.0  BRIGHT             4\n",
       "   ...           ...             ...   ... ...       ...     ...           ...\n",
       "100084 31.1000003815            -5.0     5 ...       1.0  BRIGHT             4\n",
       "100085 31.8999996185            -5.0     5 ...       1.0  BRIGHT             4\n",
       "100086 32.7000007629            -5.0     5 ...       1.0  BRIGHT             4\n",
       "100087          33.5            -5.0     5 ...       1.0  BRIGHT             4\n",
       "100088 34.2999992371            -5.0     5 ...       1.0  BRIGHT             4\n",
       "100089 35.0999984741            -5.0     5 ...       1.0  BRIGHT             4\n",
       "100090 35.9000015259            -5.0     5 ...       1.0  BRIGHT             4\n",
       "100091 36.7000007629            -5.0     5 ...       1.0  BRIGHT             4\n",
       "100092          37.5            -5.0     5 ...       1.0  BRIGHT             4\n",
       "100093 38.2999992371            -5.0     5 ...       1.0  BRIGHT             4"
      ]
     },
     "execution_count": 4,
     "metadata": {},
     "output_type": "execute_result"
    }
   ],
   "source": [
    "tiles = Table(fits.open(tilesfile)[1].data)\n",
    "tiles"
   ]
  },
  {
   "cell_type": "code",
   "execution_count": 5,
   "metadata": {},
   "outputs": [
    {
     "data": {
      "text/html": [
       "&lt;Table length=1&gt;\n",
       "<table id=\"table46913336744928\" class=\"table-striped table-bordered table-condensed\">\n",
       "<thead><tr><th>TILEID</th><th>RA</th><th>DEC</th><th>PASS</th><th>IN_DESI</th><th>EBV_MED</th><th>AIRMASS</th><th>STAR_DENSITY</th><th>EXPOSEFAC</th><th>PROGRAM</th><th>OBSCONDITIONS</th></tr></thead>\n",
       "<thead><tr><th>int32</th><th>float64</th><th>float64</th><th>int16</th><th>int16</th><th>float32</th><th>float32</th><th>float32</th><th>float32</th><th>str6</th><th>int32</th></tr></thead>\n",
       "<tr><td>100000</td><td>212.399993896</td><td>-0.819999992847</td><td>5</td><td>1</td><td>0.0504712</td><td>1.0</td><td>1.0</td><td>1.0</td><td>BRIGHT</td><td>4</td></tr>\n",
       "</table>"
      ],
      "text/plain": [
       "<Table length=1>\n",
       "TILEID       RA            DEC        PASS ... EXPOSEFAC PROGRAM OBSCONDITIONS\n",
       "int32     float64        float64     int16 ...  float32    str6      int32    \n",
       "------ ------------- --------------- ----- ... --------- ------- -------------\n",
       "100000 212.399993896 -0.819999992847     5 ...       1.0  BRIGHT             4"
      ]
     },
     "execution_count": 5,
     "metadata": {},
     "output_type": "execute_result"
    }
   ],
   "source": [
    "##  Restrict to one tile\n",
    "tiles = tiles[tiles['TILEID'] == 100000]\n",
    "tiles"
   ]
  },
  {
   "cell_type": "code",
   "execution_count": 6,
   "metadata": {},
   "outputs": [
    {
     "data": {
      "text/html": [
       "&lt;Table length=132487&gt;\n",
       "<table id=\"table46913336709640\" class=\"table-striped table-bordered table-condensed\">\n",
       "<thead><tr><th>CATAID</th><th>GAMA_NAME</th><th>IC_FLAG</th><th>N_SPEC</th><th>N_GAMA_SPEC</th><th>DIST</th><th>SPECID</th><th>SURVEY</th><th>SURVEY_CODE</th><th>RA_GAMA</th><th>DEC_GAMA</th><th>WMIN</th><th>WMAX</th><th>Z</th><th>NQ</th><th>PROB</th><th>FILENAME</th><th>URL</th><th>URL_IMG</th><th>D4000N</th><th>HB_EW</th><th>HA_EW</th><th>FIELD</th><th>RELEASE</th><th>BRICKID</th><th>BRICKNAME</th><th>OBJID</th><th>TYPE</th><th>RA</th><th>DEC</th><th>RA_IVAR</th><th>DEC_IVAR</th><th>DCHISQ [5]</th><th>EBV</th><th>FLUX_U</th><th>FLUX_G</th><th>FLUX_R</th><th>FLUX_I</th><th>FLUX_Z</th><th>FLUX_Y</th><th>FLUX_W1</th><th>FLUX_W2</th><th>FLUX_W3</th><th>FLUX_W4</th><th>FLUX_IVAR_U</th><th>FLUX_IVAR_G</th><th>FLUX_IVAR_R</th><th>FLUX_IVAR_I</th><th>FLUX_IVAR_Z</th><th>FLUX_IVAR_Y</th><th>FLUX_IVAR_W1</th><th>FLUX_IVAR_W2</th><th>FLUX_IVAR_W3</th><th>FLUX_IVAR_W4</th><th>MW_TRANSMISSION_U</th><th>MW_TRANSMISSION_G</th><th>MW_TRANSMISSION_R</th><th>MW_TRANSMISSION_I</th><th>MW_TRANSMISSION_Z</th><th>MW_TRANSMISSION_Y</th><th>MW_TRANSMISSION_W1</th><th>MW_TRANSMISSION_W2</th><th>MW_TRANSMISSION_W3</th><th>MW_TRANSMISSION_W4</th><th>NOBS_U</th><th>NOBS_G</th><th>NOBS_R</th><th>NOBS_I</th><th>NOBS_Z</th><th>NOBS_Y</th><th>NOBS_W1</th><th>NOBS_W2</th><th>NOBS_W3</th><th>NOBS_W4</th><th>RCHISQ_U</th><th>RCHISQ_G</th><th>RCHISQ_R</th><th>RCHISQ_I</th><th>RCHISQ_Z</th><th>RCHISQ_Y</th><th>RCHISQ_W1</th><th>RCHISQ_W2</th><th>RCHISQ_W3</th><th>RCHISQ_W4</th><th>FRACFLUX_U</th><th>FRACFLUX_G</th><th>FRACFLUX_R</th><th>FRACFLUX_I</th><th>FRACFLUX_Z</th><th>FRACFLUX_Y</th><th>FRACFLUX_W1</th><th>FRACFLUX_W2</th><th>FRACFLUX_W3</th><th>FRACFLUX_W4</th><th>FRACMASKED_U</th><th>FRACMASKED_G</th><th>FRACMASKED_R</th><th>FRACMASKED_I</th><th>FRACMASKED_Z</th><th>FRACMASKED_Y</th><th>FRACIN_U</th><th>FRACIN_G</th><th>FRACIN_R</th><th>FRACIN_I</th><th>FRACIN_Z</th><th>FRACIN_Y</th><th>ANYMASK_U</th><th>ANYMASK_G</th><th>ANYMASK_R</th><th>ANYMASK_I</th><th>ANYMASK_Z</th><th>ANYMASK_Y</th><th>ALLMASK_U</th><th>ALLMASK_G</th><th>ALLMASK_R</th><th>ALLMASK_I</th><th>ALLMASK_Z</th><th>ALLMASK_Y</th><th>WISEMASK_W1</th><th>WISEMASK_W2</th><th>PSFSIZE_U</th><th>PSFSIZE_G</th><th>PSFSIZE_R</th><th>PSFSIZE_I</th><th>PSFSIZE_Z</th><th>PSFSIZE_Y</th><th>PSFDEPTH_U</th><th>PSFDEPTH_G</th><th>PSFDEPTH_R</th><th>PSFDEPTH_I</th><th>PSFDEPTH_Z</th><th>PSFDEPTH_Y</th><th>GALDEPTH_U</th><th>GALDEPTH_G</th><th>GALDEPTH_R</th><th>GALDEPTH_I</th><th>GALDEPTH_Z</th><th>GALDEPTH_Y</th><th>WISE_COADD_ID</th><th>FRACDEV</th><th>FRACDEV_IVAR</th><th>SHAPEDEV_R</th><th>SHAPEDEV_R_IVAR</th><th>SHAPEDEV_E1</th><th>SHAPEDEV_E1_IVAR</th><th>SHAPEDEV_E2</th><th>SHAPEDEV_E2_IVAR</th><th>SHAPEEXP_R</th><th>SHAPEEXP_R_IVAR</th><th>SHAPEEXP_E1</th><th>SHAPEEXP_E1_IVAR</th><th>SHAPEEXP_E2</th><th>SHAPEEXP_E2_IVAR</th><th>FIBERFLUX_U</th><th>FIBERFLUX_G</th><th>FIBERFLUX_R</th><th>FIBERFLUX_I</th><th>FIBERFLUX_Z</th><th>FIBERFLUX_Y</th><th>FIBERTOTFLUX_U</th><th>FIBERTOTFLUX_G</th><th>FIBERTOTFLUX_R</th><th>FIBERTOTFLUX_I</th><th>FIBERTOTFLUX_Z</th><th>FIBERTOTFLUX_Y</th><th>REF_ID</th><th>GAIA_PHOT_G_MEAN_MAG</th><th>GAIA_PHOT_G_MEAN_FLUX_OVER_ERROR</th><th>GAIA_PHOT_BP_MEAN_MAG</th><th>GAIA_PHOT_BP_MEAN_FLUX_OVER_ERROR</th><th>GAIA_PHOT_RP_MEAN_MAG</th><th>GAIA_PHOT_RP_MEAN_FLUX_OVER_ERROR</th><th>GAIA_ASTROMETRIC_EXCESS_NOISE</th><th>GAIA_DUPLICATED_SOURCE</th><th>PARALLAX</th><th>PARALLAX_IVAR</th><th>PMRA</th><th>PMRA_IVAR</th><th>PMDEC</th><th>PMDEC_IVAR</th><th>BRIGHTSTARINBLOB</th></tr></thead>\n",
       "<thead><tr><th>int32</th><th>str23</th><th>int16</th><th>int16</th><th>int16</th><th>float32</th><th>str33</th><th>str9</th><th>int16</th><th>float64</th><th>float64</th><th>float32</th><th>float64</th><th>float32</th><th>int16</th><th>float32</th><th>str67</th><th>str88</th><th>str92</th><th>float32</th><th>float32</th><th>float32</th><th>str9</th><th>int32</th><th>int32</th><th>str8</th><th>int32</th><th>str4</th><th>float64</th><th>float64</th><th>float32</th><th>float32</th><th>float32</th><th>float32</th><th>float32</th><th>float32</th><th>float32</th><th>float32</th><th>float32</th><th>float32</th><th>float32</th><th>float32</th><th>float32</th><th>float32</th><th>float32</th><th>float32</th><th>float32</th><th>float32</th><th>float32</th><th>float32</th><th>float32</th><th>float32</th><th>float32</th><th>float32</th><th>float32</th><th>float32</th><th>float32</th><th>float32</th><th>float32</th><th>float32</th><th>float32</th><th>float32</th><th>float32</th><th>float32</th><th>int16</th><th>int16</th><th>int16</th><th>int16</th><th>int16</th><th>int16</th><th>int16</th><th>int16</th><th>int16</th><th>int16</th><th>float32</th><th>float32</th><th>float32</th><th>float32</th><th>float32</th><th>float32</th><th>float32</th><th>float32</th><th>float32</th><th>float32</th><th>float32</th><th>float32</th><th>float32</th><th>float32</th><th>float32</th><th>float32</th><th>float32</th><th>float32</th><th>float32</th><th>float32</th><th>float32</th><th>float32</th><th>float32</th><th>float32</th><th>float32</th><th>float32</th><th>float32</th><th>float32</th><th>float32</th><th>float32</th><th>float32</th><th>float32</th><th>int16</th><th>int16</th><th>int16</th><th>int16</th><th>int16</th><th>int16</th><th>int16</th><th>int16</th><th>int16</th><th>int16</th><th>int16</th><th>int16</th><th>uint8</th><th>uint8</th><th>float32</th><th>float32</th><th>float32</th><th>float32</th><th>float32</th><th>float32</th><th>float32</th><th>float32</th><th>float32</th><th>float32</th><th>float32</th><th>float32</th><th>float32</th><th>float32</th><th>float32</th><th>float32</th><th>float32</th><th>float32</th><th>str8</th><th>float32</th><th>float32</th><th>float32</th><th>float32</th><th>float32</th><th>float32</th><th>float32</th><th>float32</th><th>float32</th><th>float32</th><th>float32</th><th>float32</th><th>float32</th><th>float32</th><th>float32</th><th>float32</th><th>float32</th><th>float32</th><th>float32</th><th>float32</th><th>float32</th><th>float32</th><th>float32</th><th>float32</th><th>float32</th><th>float32</th><th>int64</th><th>float32</th><th>float32</th><th>float32</th><th>float32</th><th>float32</th><th>float32</th><th>float32</th><th>bool</th><th>float32</th><th>float32</th><th>float32</th><th>float32</th><th>float32</th><th>float32</th><th>bool</th></tr></thead>\n",
       "<tr><td>6802</td><td>GAMAJ113601.43+004315.3</td><td>4104</td><td>1</td><td>1</td><td>0.07</td><td>G12_Y3_017_187</td><td>GAMA</td><td>5</td><td>174.006</td><td>0.72093</td><td>3727.71</td><td>8857.67</td><td>0.05054</td><td>4</td><td>1.0</td><td>/GAMA/dr3/data/spectra/gama/reduced_27/1d/G12_Y3_017_187.fit</td><td>http://www.gama-survey.org/dr3/data/spectra/gama/reduced_27/1d/G12_Y3_017_187.fit</td><td>http://www.gama-survey.org/dr3/data/spectra/gama/reduced_27/1d/png/G12_Y3_017_187.png</td><td>1.81131</td><td>5.20334</td><td>27.8028</td><td>G12</td><td>7000</td><td>335384</td><td>1741p007</td><td>1909</td><td>EXP</td><td>174.005987533</td><td>0.72094157246</td><td>7.40685e+12</td><td>4.4597e+12</td><td>475690.0 .. 615579.0</td><td>0.0223431</td><td>0.0</td><td>22.1154</td><td>36.5512</td><td>0.0</td><td>50.9447</td><td>0.0</td><td>35.6419</td><td>23.8391</td><td>34.8189</td><td>17.7839</td><td>0.0</td><td>385.058</td><td>266.155</td><td>0.0</td><td>27.5049</td><td>0.0</td><td>2.46397</td><td>0.472394</td><td>0.00088903</td><td>2.01315e-05</td><td>0.921077</td><td>0.936</td><td>0.956425</td><td>0.96777</td><td>0.975387</td><td>0.978342</td><td>0.996221</td><td>0.997677</td><td>0.999504</td><td>0.999813</td><td>0</td><td>9</td><td>9</td><td>0</td><td>4</td><td>0</td><td>120</td><td>120</td><td>14</td><td>14</td><td>0.0</td><td>1.30424</td><td>1.35937</td><td>0.0</td><td>1.43103</td><td>0.0</td><td>1.84783</td><td>0.859381</td><td>0.514881</td><td>0.223859</td><td>0.0</td><td>0.0</td><td>0.0</td><td>0.0</td><td>0.0</td><td>0.0</td><td>0.00374059</td><td>0.0159631</td><td>0.431544</td><td>14.1377</td><td>0.0</td><td>0.00830569</td><td>0.0112378</td><td>0.0</td><td>0.00297847</td><td>0.0</td><td>0.0</td><td>0.999583</td><td>0.999611</td><td>0.0</td><td>0.999351</td><td>0.0</td><td>0</td><td>0</td><td>0</td><td>0</td><td>0</td><td>0</td><td>0</td><td>0</td><td>0</td><td>0</td><td>0</td><td>0</td><td>0</td><td>0</td><td>0.0</td><td>1.59054</td><td>1.55835</td><td>0.0</td><td>1.30651</td><td>0.0</td><td>0.0</td><td>1776.42</td><td>1034.29</td><td>0.0</td><td>100.108</td><td>0.0</td><td>0.0</td><td>1179.99</td><td>669.955</td><td>0.0</td><td>55.8007</td><td>0.0</td><td>1739p000</td><td>0.0</td><td>0.0</td><td>0.0</td><td>0.0</td><td>0.0</td><td>0.0</td><td>0.0</td><td>0.0</td><td>1.11965</td><td>199678.0</td><td>0.265048</td><td>219384.0</td><td>0.330741</td><td>236028.0</td><td>0.0</td><td>8.00218</td><td>13.2256</td><td>0.0</td><td>18.4337</td><td>0.0</td><td>0.0</td><td>8.00218</td><td>13.2256</td><td>0.0</td><td>18.4337</td><td>0.0</td><td>0</td><td>0.0</td><td>0.0</td><td>0.0</td><td>0.0</td><td>0.0</td><td>0.0</td><td>0.0</td><td>False</td><td>0.0</td><td>0.0</td><td>0.0</td><td>0.0</td><td>0.0</td><td>0.0</td><td>False</td></tr>\n",
       "<tr><td>6806</td><td>GAMAJ113605.47+004221.3</td><td>4104</td><td>1</td><td>1</td><td>0.07</td><td>G12_Y1_AN1_238</td><td>GAMA</td><td>5</td><td>174.02279</td><td>0.70594</td><td>3727.79</td><td>8856.73</td><td>0.33124</td><td>4</td><td>1.0</td><td>/GAMA/dr3/data/spectra/gama/reduced_27/1d/G12_Y1_AN1_238.fit</td><td>http://www.gama-survey.org/dr3/data/spectra/gama/reduced_27/1d/G12_Y1_AN1_238.fit</td><td>http://www.gama-survey.org/dr3/data/spectra/gama/reduced_27/1d/png/G12_Y1_AN1_238.png</td><td>1.21872</td><td>1.90933</td><td>21.2073</td><td>G12</td><td>7000</td><td>335384</td><td>1741p007</td><td>1432</td><td>EXP</td><td>174.022822693</td><td>0.705983051461</td><td>1.45994e+12</td><td>1.10126e+12</td><td>178606.0 .. 311180.0</td><td>0.0221233</td><td>0.0</td><td>14.4805</td><td>38.1432</td><td>0.0</td><td>74.0992</td><td>0.0</td><td>100.006</td><td>85.3323</td><td>382.677</td><td>926.434</td><td>0.0</td><td>251.188</td><td>129.804</td><td>0.0</td><td>12.6681</td><td>0.0</td><td>2.15793</td><td>0.429917</td><td>0.000860761</td><td>2.08444e-05</td><td>0.921822</td><td>0.936609</td><td>0.956844</td><td>0.968081</td><td>0.975626</td><td>0.978553</td><td>0.996258</td><td>0.9977</td><td>0.999509</td><td>0.999815</td><td>0</td><td>7</td><td>7</td><td>0</td><td>4</td><td>0</td><td>121</td><td>121</td><td>15</td><td>15</td><td>0.0</td><td>1.45096</td><td>1.69315</td><td>0.0</td><td>2.66326</td><td>0.0</td><td>4.74339</td><td>2.20937</td><td>0.755477</td><td>0.133321</td><td>0.0</td><td>0.00010346</td><td>9.53748e-05</td><td>0.0</td><td>6.02417e-05</td><td>0.0</td><td>0.0208491</td><td>0.0177558</td><td>0.0805053</td><td>0.812899</td><td>0.0</td><td>0.0150865</td><td>0.0187276</td><td>0.0</td><td>0.00281674</td><td>0.0</td><td>0.0</td><td>0.829149</td><td>0.850909</td><td>0.0</td><td>0.999292</td><td>0.0</td><td>0</td><td>0</td><td>0</td><td>0</td><td>0</td><td>0</td><td>0</td><td>0</td><td>0</td><td>0</td><td>0</td><td>0</td><td>0</td><td>0</td><td>0.0</td><td>1.58177</td><td>1.58585</td><td>0.0</td><td>1.30616</td><td>0.0</td><td>0.0</td><td>1664.39</td><td>852.953</td><td>0.0</td><td>100.108</td><td>0.0</td><td>0.0</td><td>1104.81</td><td>556.566</td><td>0.0</td><td>55.8007</td><td>0.0</td><td>1739p000</td><td>0.0</td><td>0.0</td><td>0.0</td><td>0.0</td><td>0.0</td><td>0.0</td><td>0.0</td><td>0.0</td><td>1.6151</td><td>112708.0</td><td>0.11641</td><td>383752.0</td><td>0.0236111</td><td>202719.0</td><td>0.0</td><td>2.62533</td><td>6.91541</td><td>0.0</td><td>13.4343</td><td>0.0</td><td>0.0</td><td>2.62533</td><td>6.91541</td><td>0.0</td><td>13.4343</td><td>0.0</td><td>0</td><td>0.0</td><td>0.0</td><td>0.0</td><td>0.0</td><td>0.0</td><td>0.0</td><td>0.0</td><td>False</td><td>0.0</td><td>0.0</td><td>0.0</td><td>0.0</td><td>0.0</td><td>0.0</td><td>False</td></tr>\n",
       "<tr><td>6808</td><td>GAMAJ113624.17+003932.1</td><td>4104</td><td>1</td><td>1</td><td>0.08</td><td>G12_Y1_AN1_235</td><td>GAMA</td><td>5</td><td>174.10071</td><td>0.65891</td><td>3727.79</td><td>8856.73</td><td>0.22936</td><td>4</td><td>1.0</td><td>/GAMA/dr3/data/spectra/gama/reduced_27/1d/G12_Y1_AN1_235.fit</td><td>http://www.gama-survey.org/dr3/data/spectra/gama/reduced_27/1d/G12_Y1_AN1_235.fit</td><td>http://www.gama-survey.org/dr3/data/spectra/gama/reduced_27/1d/png/G12_Y1_AN1_235.png</td><td>1.66048</td><td>-0.434862</td><td>0.110285</td><td>G12</td><td>7000</td><td>335384</td><td>1741p007</td><td>678</td><td>DEV</td><td>174.100731693</td><td>0.658933087577</td><td>7.55088e+11</td><td>6.56699e+11</td><td>84565.2 .. 90110.8</td><td>0.021526</td><td>0.0</td><td>12.1122</td><td>36.5411</td><td>0.0</td><td>68.8094</td><td>0.0</td><td>69.4164</td><td>51.235</td><td>50.8314</td><td>495.541</td><td>0.0</td><td>65.836</td><td>51.7246</td><td>0.0</td><td>5.63259</td><td>0.0</td><td>1.58689</td><td>0.320459</td><td>0.000581017</td><td>1.61192e-05</td><td>0.92385</td><td>0.938267</td><td>0.957985</td><td>0.96893</td><td>0.976276</td><td>0.979126</td><td>0.996359</td><td>0.997762</td><td>0.999522</td><td>0.99982</td><td>0</td><td>2</td><td>3</td><td>0</td><td>2</td><td>0</td><td>117</td><td>118</td><td>13</td><td>13</td><td>0.0</td><td>1.01231</td><td>1.13115</td><td>0.0</td><td>1.29085</td><td>0.0</td><td>1.34194</td><td>1.21989</td><td>0.759392</td><td>0.179646</td><td>0.0</td><td>0.021292</td><td>0.0122319</td><td>0.0</td><td>0.0117862</td><td>0.0</td><td>0.139383</td><td>0.138973</td><td>1.527</td><td>0.920936</td><td>0.0</td><td>0.0544211</td><td>0.0428011</td><td>0.0</td><td>0.0391085</td><td>0.0</td><td>0.0</td><td>0.683737</td><td>0.978407</td><td>0.0</td><td>0.650189</td><td>0.0</td><td>0</td><td>0</td><td>0</td><td>0</td><td>0</td><td>0</td><td>0</td><td>0</td><td>0</td><td>0</td><td>0</td><td>0</td><td>0</td><td>0</td><td>0.0</td><td>1.48304</td><td>1.80832</td><td>0.0</td><td>1.4836</td><td>0.0</td><td>0.0</td><td>587.949</td><td>397.402</td><td>0.0</td><td>41.395</td><td>0.0</td><td>0.0</td><td>370.346</td><td>273.863</td><td>0.0</td><td>26.0657</td><td>0.0</td><td>1739p000</td><td>1.0</td><td>1.0</td><td>1.8982</td><td>9716.1</td><td>0.0854673</td><td>40635.3</td><td>-0.074963</td><td>34347.3</td><td>0.0</td><td>0.0</td><td>0.0</td><td>0.0</td><td>0.0</td><td>0.0</td><td>0.0</td><td>2.74783</td><td>8.28991</td><td>0.0</td><td>15.6105</td><td>0.0</td><td>0.0</td><td>2.74783</td><td>8.28991</td><td>0.0</td><td>15.6105</td><td>0.0</td><td>0</td><td>0.0</td><td>0.0</td><td>0.0</td><td>0.0</td><td>0.0</td><td>0.0</td><td>0.0</td><td>False</td><td>0.0</td><td>0.0</td><td>0.0</td><td>0.0</td><td>0.0</td><td>0.0</td><td>False</td></tr>\n",
       "<tr><td>6810</td><td>GAMAJ113626.18+004814.0</td><td>4104</td><td>1</td><td>1</td><td>0.05</td><td>G12_Y2_041_164</td><td>GAMA</td><td>5</td><td>174.10908</td><td>0.8039</td><td>3727.91</td><td>8858.93</td><td>0.3263</td><td>4</td><td>1.0</td><td>/GAMA/dr3/data/spectra/gama/reduced_27/1d/G12_Y2_041_164.fit</td><td>http://www.gama-survey.org/dr3/data/spectra/gama/reduced_27/1d/G12_Y2_041_164.fit</td><td>http://www.gama-survey.org/dr3/data/spectra/gama/reduced_27/1d/png/G12_Y2_041_164.png</td><td>1.41667</td><td>0.205869</td><td>10.5888</td><td>G12</td><td>7000</td><td>335384</td><td>1741p007</td><td>3598</td><td>EXP</td><td>174.109085486</td><td>0.803897305261</td><td>2.21838e+12</td><td>1.19184e+12</td><td>173460.0 .. 233702.0</td><td>0.0233997</td><td>0.0</td><td>6.36565</td><td>23.9825</td><td>0.0</td><td>56.1294</td><td>0.0</td><td>101.074</td><td>78.67</td><td>180.746</td><td>652.151</td><td>0.0</td><td>476.704</td><td>251.966</td><td>0.0</td><td>21.6394</td><td>0.0</td><td>2.39321</td><td>0.471214</td><td>0.000820887</td><td>2.01635e-05</td><td>0.917502</td><td>0.933077</td><td>0.954412</td><td>0.966271</td><td>0.974238</td><td>0.97733</td><td>0.996042</td><td>0.997568</td><td>0.999481</td><td>0.999804</td><td>0</td><td>9</td><td>9</td><td>0</td><td>4</td><td>0</td><td>122</td><td>123</td><td>13</td><td>14</td><td>0.0</td><td>1.14799</td><td>1.55511</td><td>0.0</td><td>2.98638</td><td>0.0</td><td>3.66729</td><td>0.789601</td><td>0.778159</td><td>0.102734</td><td>0.0</td><td>0.00114914</td><td>0.000886519</td><td>0.0</td><td>0.000321846</td><td>0.0</td><td>0.0372617</td><td>0.0324452</td><td>0.307905</td><td>0.607919</td><td>0.0</td><td>0.00610596</td><td>0.0103832</td><td>0.0</td><td>0.00195598</td><td>0.0</td><td>0.0</td><td>0.999852</td><td>0.999876</td><td>0.0</td><td>1.00011</td><td>0.0</td><td>0</td><td>0</td><td>0</td><td>0</td><td>0</td><td>0</td><td>0</td><td>0</td><td>0</td><td>0</td><td>0</td><td>0</td><td>0</td><td>0</td><td>0.0</td><td>1.58315</td><td>1.68085</td><td>0.0</td><td>1.2843</td><td>0.0</td><td>0.0</td><td>1781.31</td><td>966.024</td><td>0.0</td><td>103.947</td><td>0.0</td><td>0.0</td><td>1181.76</td><td>642.181</td><td>0.0</td><td>57.2813</td><td>0.0</td><td>1739p015</td><td>0.0</td><td>0.0</td><td>0.0</td><td>0.0</td><td>0.0</td><td>0.0</td><td>0.0</td><td>0.0</td><td>1.40974</td><td>61879.9</td><td>0.278633</td><td>119442.0</td><td>0.295063</td><td>126059.0</td><td>0.0</td><td>1.82427</td><td>6.8729</td><td>0.0</td><td>16.0855</td><td>0.0</td><td>0.0</td><td>1.82515</td><td>6.87614</td><td>0.0</td><td>16.1002</td><td>0.0</td><td>0</td><td>0.0</td><td>0.0</td><td>0.0</td><td>0.0</td><td>0.0</td><td>0.0</td><td>0.0</td><td>False</td><td>0.0</td><td>0.0</td><td>0.0</td><td>0.0</td><td>0.0</td><td>0.0</td><td>False</td></tr>\n",
       "<tr><td>6813</td><td>GAMAJ113615.31+003840.3</td><td>4104</td><td>1</td><td>1</td><td>0.05</td><td>G12_Y3_017_177</td><td>GAMA</td><td>5</td><td>174.06383</td><td>0.64454</td><td>3727.71</td><td>8857.67</td><td>0.48457</td><td>4</td><td>1.0</td><td>/GAMA/dr3/data/spectra/gama/reduced_27/1d/G12_Y3_017_177.fit</td><td>http://www.gama-survey.org/dr3/data/spectra/gama/reduced_27/1d/G12_Y3_017_177.fit</td><td>http://www.gama-survey.org/dr3/data/spectra/gama/reduced_27/1d/png/G12_Y3_017_177.png</td><td>1.40884</td><td>1.01698</td><td>-99999.0</td><td>G12</td><td>7000</td><td>335384</td><td>1741p007</td><td>413</td><td>REX</td><td>174.063817399</td><td>0.644544507087</td><td>5.18678e+11</td><td>5.23369e+11</td><td>63521.9 .. 89044.6</td><td>0.0224696</td><td>0.0</td><td>6.79401</td><td>20.4031</td><td>0.0</td><td>37.9088</td><td>0.0</td><td>69.3986</td><td>50.5026</td><td>253.89</td><td>270.128</td><td>0.0</td><td>264.4</td><td>115.153</td><td>0.0</td><td>19.5904</td><td>0.0</td><td>2.36878</td><td>0.448249</td><td>0.000750323</td><td>1.75523e-05</td><td>0.920648</td><td>0.935649</td><td>0.956184</td><td>0.96759</td><td>0.975249</td><td>0.978221</td><td>0.996199</td><td>0.997664</td><td>0.999501</td><td>0.999812</td><td>0</td><td>4</td><td>4</td><td>0</td><td>4</td><td>0</td><td>118</td><td>119</td><td>12</td><td>12</td><td>0.0</td><td>1.39047</td><td>1.73772</td><td>0.0</td><td>2.49289</td><td>0.0</td><td>4.11113</td><td>1.85429</td><td>0.580635</td><td>0.112807</td><td>0.0</td><td>0.000354624</td><td>0.0007165</td><td>0.0</td><td>0.000556796</td><td>0.0</td><td>0.102795</td><td>0.173189</td><td>0.383648</td><td>1.29829</td><td>0.0</td><td>0.00111705</td><td>0.00153721</td><td>0.0</td><td>0.00205767</td><td>0.0</td><td>0.0</td><td>0.999355</td><td>0.999066</td><td>0.0</td><td>0.999512</td><td>0.0</td><td>0</td><td>0</td><td>0</td><td>0</td><td>0</td><td>0</td><td>0</td><td>0</td><td>0</td><td>0</td><td>0</td><td>0</td><td>0</td><td>0</td><td>0.0</td><td>1.47823</td><td>1.66968</td><td>0.0</td><td>1.27998</td><td>0.0</td><td>0.0</td><td>1226.0</td><td>486.442</td><td>0.0</td><td>100.848</td><td>0.0</td><td>0.0</td><td>786.043</td><td>322.133</td><td>0.0</td><td>55.4151</td><td>0.0</td><td>1739p000</td><td>0.0</td><td>0.0</td><td>0.0</td><td>0.0</td><td>0.0</td><td>0.0</td><td>0.0</td><td>0.0</td><td>1.07091</td><td>48301.4</td><td>0.0</td><td>0.0</td><td>0.0</td><td>0.0</td><td>0.0</td><td>1.77032</td><td>5.31645</td><td>0.0</td><td>9.87792</td><td>0.0</td><td>0.0</td><td>1.77032</td><td>5.31645</td><td>0.0</td><td>9.87792</td><td>0.0</td><td>0</td><td>0.0</td><td>0.0</td><td>0.0</td><td>0.0</td><td>0.0</td><td>0.0</td><td>0.0</td><td>False</td><td>0.0</td><td>0.0</td><td>0.0</td><td>0.0</td><td>0.0</td><td>0.0</td><td>False</td></tr>\n",
       "<tr><td>6820</td><td>GAMAJ113608.43+004721.4</td><td>4104</td><td>3</td><td>3</td><td>0.05</td><td>G12_Y3_033_174</td><td>GAMA</td><td>5</td><td>174.03512</td><td>0.78928</td><td>3726.83</td><td>8857.89</td><td>0.4141</td><td>4</td><td>0.999</td><td>/GAMA/dr3/data/spectra/gama/reduced_27/1d/G12_Y3_033_174.fit</td><td>http://www.gama-survey.org/dr3/data/spectra/gama/reduced_27/1d/G12_Y3_033_174.fit</td><td>http://www.gama-survey.org/dr3/data/spectra/gama/reduced_27/1d/png/G12_Y3_033_174.png</td><td>2.9801</td><td>0.362187</td><td>-99999.0</td><td>G12</td><td>7000</td><td>335384</td><td>1741p007</td><td>3274</td><td>EXP</td><td>174.03512647</td><td>0.789289680896</td><td>4.65059e+11</td><td>6.03077e+11</td><td>65329.0 .. 94377.2</td><td>0.0220281</td><td>0.0</td><td>4.85828</td><td>16.4418</td><td>0.0</td><td>34.6254</td><td>0.0</td><td>57.6607</td><td>42.0427</td><td>91.8983</td><td>12.1019</td><td>0.0</td><td>419.52</td><td>229.523</td><td>0.0</td><td>18.3889</td><td>0.0</td><td>2.26971</td><td>0.43814</td><td>0.000802345</td><td>1.86155e-05</td><td>0.922145</td><td>0.936873</td><td>0.957026</td><td>0.968217</td><td>0.97573</td><td>0.978644</td><td>0.996274</td><td>0.99771</td><td>0.999511</td><td>0.999815</td><td>0</td><td>9</td><td>9</td><td>0</td><td>4</td><td>0</td><td>118</td><td>118</td><td>13</td><td>13</td><td>0.0</td><td>1.07738</td><td>1.1228</td><td>0.0</td><td>1.80005</td><td>0.0</td><td>1.91988</td><td>1.05055</td><td>0.453009</td><td>0.0906699</td><td>0.0</td><td>6.81637e-05</td><td>3.35782e-05</td><td>0.0</td><td>1.47532e-05</td><td>0.0</td><td>0.0132928</td><td>0.0337029</td><td>0.310905</td><td>29.0046</td><td>0.0</td><td>0.00326442</td><td>0.00416569</td><td>0.0</td><td>0.00366211</td><td>0.0</td><td>0.0</td><td>0.999365</td><td>0.999429</td><td>0.0</td><td>0.999364</td><td>0.0</td><td>0</td><td>0</td><td>0</td><td>0</td><td>0</td><td>0</td><td>0</td><td>0</td><td>0</td><td>0</td><td>0</td><td>0</td><td>0</td><td>0</td><td>0.0</td><td>1.56755</td><td>1.54878</td><td>0.0</td><td>1.2948</td><td>0.0</td><td>0.0</td><td>1772.25</td><td>1030.38</td><td>0.0</td><td>100.282</td><td>0.0</td><td>0.0</td><td>1170.62</td><td>664.527</td><td>0.0</td><td>55.6121</td><td>0.0</td><td>1739p015</td><td>0.0</td><td>0.0</td><td>0.0</td><td>0.0</td><td>0.0</td><td>0.0</td><td>0.0</td><td>0.0</td><td>1.43234</td><td>30626.4</td><td>-0.110831</td><td>48501.8</td><td>0.210862</td><td>76336.0</td><td>0.0</td><td>1.17094</td><td>3.96278</td><td>0.0</td><td>8.34538</td><td>0.0</td><td>0.0</td><td>1.17094</td><td>3.96278</td><td>0.0</td><td>8.34538</td><td>0.0</td><td>0</td><td>0.0</td><td>0.0</td><td>0.0</td><td>0.0</td><td>0.0</td><td>0.0</td><td>0.0</td><td>False</td><td>0.0</td><td>0.0</td><td>0.0</td><td>0.0</td><td>0.0</td><td>0.0</td><td>False</td></tr>\n",
       "<tr><td>6826</td><td>GAMAJ113644.38+004232.5</td><td>4104</td><td>3</td><td>0</td><td>0.01</td><td>317651685860206592</td><td>SDSS</td><td>1</td><td>174.18493</td><td>0.70906</td><td>3801.89</td><td>9204.5</td><td>0.07275</td><td>5</td><td>0.0</td><td>/GAMA/dr3/data/spectra/sdss/spec-0282-51658-0538.fit</td><td>http://www.gama-survey.org/dr3/data/spectra/sdss/spec-0282-51658-0538.fit</td><td>http://www.gama-survey.org/dr3/data/spectra/sdss/png/spec-0282-51658-0538.png</td><td>1.25861</td><td>10.2783</td><td>60.3941</td><td>G12</td><td>7000</td><td>335384</td><td>1741p007</td><td>1585</td><td>REX</td><td>174.184928036</td><td>0.709039942945</td><td>1.03789e+13</td><td>1.0734e+13</td><td>1.14025e+06 .. 1.53495e+06</td><td>0.021524</td><td>0.0</td><td>52.2653</td><td>87.6854</td><td>0.0</td><td>123.373</td><td>0.0</td><td>112.04</td><td>77.8111</td><td>563.975</td><td>554.512</td><td>0.0</td><td>166.181</td><td>113.25</td><td>0.0</td><td>12.4558</td><td>0.0</td><td>2.38007</td><td>0.467061</td><td>0.000889298</td><td>2.15884e-05</td><td>0.923857</td><td>0.938272</td><td>0.957988</td><td>0.968933</td><td>0.976279</td><td>0.979128</td><td>0.996359</td><td>0.997762</td><td>0.999522</td><td>0.99982</td><td>0</td><td>6</td><td>6</td><td>0</td><td>3</td><td>0</td><td>119</td><td>121</td><td>14</td><td>15</td><td>0.0</td><td>6.01891</td><td>6.08628</td><td>0.0</td><td>5.48349</td><td>0.0</td><td>8.27439</td><td>1.31765</td><td>0.484884</td><td>0.122371</td><td>0.0</td><td>0.00268931</td><td>0.0045139</td><td>0.0</td><td>0.00491969</td><td>0.0</td><td>0.0897812</td><td>0.121491</td><td>0.0838606</td><td>1.38486</td><td>0.0</td><td>0.000393444</td><td>0.000406795</td><td>0.0</td><td>0.000262021</td><td>0.0</td><td>0.0</td><td>1.0</td><td>1.0</td><td>0.0</td><td>1.0</td><td>0.0</td><td>0</td><td>0</td><td>0</td><td>0</td><td>0</td><td>0</td><td>0</td><td>0</td><td>0</td><td>0</td><td>0</td><td>0</td><td>0</td><td>0</td><td>0.0</td><td>1.59346</td><td>1.63137</td><td>0.0</td><td>1.37596</td><td>0.0</td><td>0.0</td><td>1392.96</td><td>729.905</td><td>0.0</td><td>63.5857</td><td>0.0</td><td>0.0</td><td>918.093</td><td>478.371</td><td>0.0</td><td>37.3129</td><td>0.0</td><td>1739p000</td><td>0.0</td><td>0.0</td><td>0.0</td><td>0.0</td><td>0.0</td><td>0.0</td><td>0.0</td><td>0.0</td><td>0.988355</td><td>806743.0</td><td>0.0</td><td>0.0</td><td>0.0</td><td>0.0</td><td>0.0</td><td>14.9037</td><td>25.0038</td><td>0.0</td><td>35.1802</td><td>0.0</td><td>0.0</td><td>14.9187</td><td>25.0455</td><td>0.0</td><td>35.2507</td><td>0.0</td><td>0</td><td>0.0</td><td>0.0</td><td>0.0</td><td>0.0</td><td>0.0</td><td>0.0</td><td>0.0</td><td>False</td><td>0.0</td><td>0.0</td><td>0.0</td><td>0.0</td><td>0.0</td><td>0.0</td><td>False</td></tr>\n",
       "<tr><td>6830</td><td>GAMAJ113707.32+004221.9</td><td>4104</td><td>1</td><td>1</td><td>0.08</td><td>G12_Y1_AN1_255</td><td>GAMA</td><td>5</td><td>174.2805</td><td>0.70608</td><td>3727.79</td><td>8856.73</td><td>0.11405</td><td>4</td><td>1.0</td><td>/GAMA/dr3/data/spectra/gama/reduced_27/1d/G12_Y1_AN1_255.fit</td><td>http://www.gama-survey.org/dr3/data/spectra/gama/reduced_27/1d/G12_Y1_AN1_255.fit</td><td>http://www.gama-survey.org/dr3/data/spectra/gama/reduced_27/1d/png/G12_Y1_AN1_255.png</td><td>1.25249</td><td>3.27878</td><td>14.2105</td><td>G12</td><td>7000</td><td>335385</td><td>1743p007</td><td>1514</td><td>EXP</td><td>174.280552067</td><td>0.706114318636</td><td>3.23959e+11</td><td>4.64018e+11</td><td>67361.1 .. 137204.0</td><td>0.0212923</td><td>0.0</td><td>17.2623</td><td>28.3547</td><td>0.0</td><td>39.8192</td><td>0.0</td><td>26.8446</td><td>13.6505</td><td>45.0989</td><td>-683.228</td><td>0.0</td><td>166.682</td><td>84.1895</td><td>0.0</td><td>12.5301</td><td>0.0</td><td>1.96281</td><td>0.390262</td><td>0.000772303</td><td>1.85258e-05</td><td>0.924645</td><td>0.938916</td><td>0.958431</td><td>0.969262</td><td>0.976531</td><td>0.97935</td><td>0.996398</td><td>0.997786</td><td>0.999528</td><td>0.999822</td><td>0</td><td>5</td><td>5</td><td>0</td><td>5</td><td>0</td><td>123</td><td>123</td><td>14</td><td>14</td><td>0.0</td><td>1.24111</td><td>1.16254</td><td>0.0</td><td>1.1473</td><td>0.0</td><td>0.838671</td><td>1.18099</td><td>0.557572</td><td>0.137642</td><td>0.0</td><td>0.0</td><td>0.0</td><td>0.0</td><td>0.0</td><td>0.0</td><td>0.0833075</td><td>0.206571</td><td>0.555778</td><td>0.43794</td><td>0.0</td><td>0.00483177</td><td>0.00603815</td><td>0.0</td><td>0.00510114</td><td>0.0</td><td>0.0</td><td>0.998082</td><td>0.997401</td><td>0.0</td><td>0.997573</td><td>0.0</td><td>0</td><td>0</td><td>0</td><td>0</td><td>0</td><td>0</td><td>0</td><td>0</td><td>0</td><td>0</td><td>0</td><td>0</td><td>0</td><td>0</td><td>0.0</td><td>1.57</td><td>1.79006</td><td>0.0</td><td>1.30946</td><td>0.0</td><td>0.0</td><td>1545.53</td><td>607.807</td><td>0.0</td><td>127.305</td><td>0.0</td><td>0.0</td><td>1022.42</td><td>413.828</td><td>0.0</td><td>71.0924</td><td>0.0</td><td>1739p000</td><td>0.0</td><td>0.0</td><td>0.0</td><td>0.0</td><td>0.0</td><td>0.0</td><td>0.0</td><td>0.0</td><td>2.07071</td><td>27502.1</td><td>-0.129276</td><td>150160.0</td><td>-0.0684462</td><td>90355.5</td><td>0.0</td><td>2.3079</td><td>3.79092</td><td>0.0</td><td>5.32367</td><td>0.0</td><td>0.0</td><td>2.3079</td><td>3.79092</td><td>0.0</td><td>5.32367</td><td>0.0</td><td>0</td><td>0.0</td><td>0.0</td><td>0.0</td><td>0.0</td><td>0.0</td><td>0.0</td><td>0.0</td><td>False</td><td>0.0</td><td>0.0</td><td>0.0</td><td>0.0</td><td>0.0</td><td>0.0</td><td>False</td></tr>\n",
       "<tr><td>6835</td><td>GAMAJ113648.63+005020.6</td><td>4104</td><td>2</td><td>2</td><td>0.04</td><td>G12_Y6_070_161</td><td>GAMA</td><td>5</td><td>174.20263</td><td>0.83908</td><td>3727.88</td><td>8858.87</td><td>0.25377</td><td>4</td><td>0.997</td><td>/GAMA/dr3/data/spectra/gama/reduced_27/1d/G12_Y6_070_161.fit</td><td>http://www.gama-survey.org/dr3/data/spectra/gama/reduced_27/1d/G12_Y6_070_161.fit</td><td>http://www.gama-survey.org/dr3/data/spectra/gama/reduced_27/1d/png/G12_Y6_070_161.png</td><td>1.38453</td><td>7.18117</td><td>7.25246</td><td>G12</td><td>7000</td><td>335384</td><td>1741p007</td><td>4380</td><td>EXP</td><td>174.202657194</td><td>0.839137087493</td><td>3.97128e+11</td><td>6.9851e+10</td><td>16220.4 .. 26313.9</td><td>0.0243231</td><td>0.0</td><td>4.57821</td><td>12.9099</td><td>0.0</td><td>27.4082</td><td>0.0</td><td>58.3025</td><td>51.3135</td><td>186.749</td><td>-222.073</td><td>0.0</td><td>257.895</td><td>92.6189</td><td>0.0</td><td>15.0321</td><td>0.0</td><td>1.89693</td><td>0.372784</td><td>0.000652218</td><td>1.59046e-05</td><td>0.914391</td><td>0.93053</td><td>0.952656</td><td>0.964964</td><td>0.973235</td><td>0.976446</td><td>0.995886</td><td>0.997472</td><td>0.99946</td><td>0.999796</td><td>0</td><td>5</td><td>4</td><td>0</td><td>4</td><td>0</td><td>122</td><td>122</td><td>12</td><td>12</td><td>0.0</td><td>1.14206</td><td>1.11678</td><td>0.0</td><td>0.995359</td><td>0.0</td><td>1.91224</td><td>0.956936</td><td>0.505875</td><td>0.219542</td><td>0.0</td><td>0.000777898</td><td>0.000938072</td><td>0.0</td><td>0.000400383</td><td>0.0</td><td>0.0139048</td><td>0.0229608</td><td>0.0828932</td><td>1.19292</td><td>0.0</td><td>0.0677997</td><td>0.00999572</td><td>0.0</td><td>0.0271972</td><td>0.0</td><td>0.0</td><td>0.95835</td><td>0.79645</td><td>0.0</td><td>0.994863</td><td>0.0</td><td>0</td><td>1</td><td>0</td><td>0</td><td>0</td><td>0</td><td>0</td><td>0</td><td>0</td><td>0</td><td>0</td><td>0</td><td>0</td><td>0</td><td>0.0</td><td>1.48546</td><td>1.90849</td><td>0.0</td><td>1.27317</td><td>0.0</td><td>0.0</td><td>1215.28</td><td>420.579</td><td>0.0</td><td>103.382</td><td>0.0</td><td>0.0</td><td>781.441</td><td>295.83</td><td>0.0</td><td>56.8102</td><td>0.0</td><td>1739p015</td><td>0.0</td><td>0.0</td><td>0.0</td><td>0.0</td><td>0.0</td><td>0.0</td><td>0.0</td><td>0.0</td><td>2.88816</td><td>2208.13</td><td>0.650541</td><td>33254.3</td><td>0.396632</td><td>33149.5</td><td>0.0</td><td>0.834007</td><td>2.35179</td><td>0.0</td><td>4.99292</td><td>0.0</td><td>0.0</td><td>0.834007</td><td>2.35179</td><td>0.0</td><td>4.99292</td><td>0.0</td><td>0</td><td>0.0</td><td>0.0</td><td>0.0</td><td>0.0</td><td>0.0</td><td>0.0</td><td>0.0</td><td>False</td><td>0.0</td><td>0.0</td><td>0.0</td><td>0.0</td><td>0.0</td><td>0.0</td><td>False</td></tr>\n",
       "<tr><td>6837</td><td>GAMAJ113712.66+004723.9</td><td>4104</td><td>1</td><td>1</td><td>0.15</td><td>G12_Y1_AN1_260</td><td>GAMA</td><td>5</td><td>174.30275</td><td>0.78998</td><td>3727.79</td><td>8856.73</td><td>0.07431</td><td>4</td><td>1.0</td><td>/GAMA/dr3/data/spectra/gama/reduced_27/1d/G12_Y1_AN1_260.fit</td><td>http://www.gama-survey.org/dr3/data/spectra/gama/reduced_27/1d/G12_Y1_AN1_260.fit</td><td>http://www.gama-survey.org/dr3/data/spectra/gama/reduced_27/1d/png/G12_Y1_AN1_260.png</td><td>1.38511</td><td>6.86012</td><td>38.0211</td><td>G12</td><td>7000</td><td>335385</td><td>1743p007</td><td>3061</td><td>COMP</td><td>174.302836241</td><td>0.790000088613</td><td>9.23591e+11</td><td>4.55828e+12</td><td>314230.0 .. 677659.0</td><td>0.0228556</td><td>0.0</td><td>61.041</td><td>102.328</td><td>0.0</td><td>142.889</td><td>0.0</td><td>101.997</td><td>64.4466</td><td>338.653</td><td>414.387</td><td>0.0</td><td>50.2877</td><td>35.3508</td><td>0.0</td><td>6.30419</td><td>0.0</td><td>1.25959</td><td>0.269361</td><td>0.000488308</td><td>1.23229e-05</td><td>0.919341</td><td>0.934581</td><td>0.955448</td><td>0.967043</td><td>0.97483</td><td>0.977851</td><td>0.996134</td><td>0.997624</td><td>0.999493</td><td>0.999808</td><td>0</td><td>3</td><td>4</td><td>0</td><td>4</td><td>0</td><td>119</td><td>121</td><td>12</td><td>11</td><td>0.0</td><td>2.33527</td><td>6.4777</td><td>0.0</td><td>1.69394</td><td>0.0</td><td>8.12478</td><td>0.790292</td><td>0.876599</td><td>0.141362</td><td>0.0</td><td>0.0250913</td><td>0.0239468</td><td>0.0</td><td>0.0186011</td><td>0.0</td><td>0.0800055</td><td>0.0932921</td><td>0.0691983</td><td>1.69244</td><td>0.0</td><td>0.0221673</td><td>0.0205883</td><td>0.0</td><td>0.0202685</td><td>0.0</td><td>0.0</td><td>0.723282</td><td>0.961067</td><td>0.0</td><td>0.95738</td><td>0.0</td><td>0</td><td>0</td><td>0</td><td>0</td><td>0</td><td>0</td><td>0</td><td>0</td><td>0</td><td>0</td><td>0</td><td>0</td><td>0</td><td>0</td><td>0.0</td><td>1.54805</td><td>1.88309</td><td>0.0</td><td>1.28069</td><td>0.0</td><td>0.0</td><td>1060.76</td><td>487.457</td><td>0.0</td><td>111.372</td><td>0.0</td><td>0.0</td><td>686.154</td><td>332.154</td><td>0.0</td><td>60.7217</td><td>0.0</td><td>1739p015</td><td>0.470397</td><td>107548.0</td><td>5.31799</td><td>2001.19</td><td>-0.623742</td><td>138411.0</td><td>0.236144</td><td>104140.0</td><td>3.98517</td><td>11140.1</td><td>-0.548032</td><td>401369.0</td><td>-0.0661131</td><td>232755.0</td><td>0.0</td><td>7.10428</td><td>11.9095</td><td>0.0</td><td>16.6302</td><td>0.0</td><td>0.0</td><td>7.10434</td><td>11.9096</td><td>0.0</td><td>16.6303</td><td>0.0</td><td>0</td><td>0.0</td><td>0.0</td><td>0.0</td><td>0.0</td><td>0.0</td><td>0.0</td><td>0.0</td><td>False</td><td>0.0</td><td>0.0</td><td>0.0</td><td>0.0</td><td>0.0</td><td>0.0</td><td>False</td></tr>\n",
       "<tr><td>...</td><td>...</td><td>...</td><td>...</td><td>...</td><td>...</td><td>...</td><td>...</td><td>...</td><td>...</td><td>...</td><td>...</td><td>...</td><td>...</td><td>...</td><td>...</td><td>...</td><td>...</td><td>...</td><td>...</td><td>...</td><td>...</td><td>...</td><td>...</td><td>...</td><td>...</td><td>...</td><td>...</td><td>...</td><td>...</td><td>...</td><td>...</td><td>...</td><td>...</td><td>...</td><td>...</td><td>...</td><td>...</td><td>...</td><td>...</td><td>...</td><td>...</td><td>...</td><td>...</td><td>...</td><td>...</td><td>...</td><td>...</td><td>...</td><td>...</td><td>...</td><td>...</td><td>...</td><td>...</td><td>...</td><td>...</td><td>...</td><td>...</td><td>...</td><td>...</td><td>...</td><td>...</td><td>...</td><td>...</td><td>...</td><td>...</td><td>...</td><td>...</td><td>...</td><td>...</td><td>...</td><td>...</td><td>...</td><td>...</td><td>...</td><td>...</td><td>...</td><td>...</td><td>...</td><td>...</td><td>...</td><td>...</td><td>...</td><td>...</td><td>...</td><td>...</td><td>...</td><td>...</td><td>...</td><td>...</td><td>...</td><td>...</td><td>...</td><td>...</td><td>...</td><td>...</td><td>...</td><td>...</td><td>...</td><td>...</td><td>...</td><td>...</td><td>...</td><td>...</td><td>...</td><td>...</td><td>...</td><td>...</td><td>...</td><td>...</td><td>...</td><td>...</td><td>...</td><td>...</td><td>...</td><td>...</td><td>...</td><td>...</td><td>...</td><td>...</td><td>...</td><td>...</td><td>...</td><td>...</td><td>...</td><td>...</td><td>...</td><td>...</td><td>...</td><td>...</td><td>...</td><td>...</td><td>...</td><td>...</td><td>...</td><td>...</td><td>...</td><td>...</td><td>...</td><td>...</td><td>...</td><td>...</td><td>...</td><td>...</td><td>...</td><td>...</td><td>...</td><td>...</td><td>...</td><td>...</td><td>...</td><td>...</td><td>...</td><td>...</td><td>...</td><td>...</td><td>...</td><td>...</td><td>...</td><td>...</td><td>...</td><td>...</td><td>...</td><td>...</td><td>...</td><td>...</td><td>...</td><td>...</td><td>...</td><td>...</td><td>...</td><td>...</td><td>...</td><td>...</td><td>...</td><td>...</td><td>...</td><td>...</td><td>...</td><td>...</td><td>...</td></tr>\n",
       "<tr><td>4249802</td><td>GAMAJ084057.63-002007.6</td><td>520</td><td>1</td><td>1</td><td>0.05</td><td>G09_Y6_068_068</td><td>GAMA</td><td>5</td><td>130.24017</td><td>-0.33546</td><td>3727.88</td><td>8858.87</td><td>0.5088</td><td>4</td><td>0.999</td><td>/GAMA/dr3/data/spectra/gama/reduced_27/1d/G09_Y6_068_068.fit</td><td>http://www.gama-survey.org/dr3/data/spectra/gama/reduced_27/1d/G09_Y6_068_068.fit</td><td>http://www.gama-survey.org/dr3/data/spectra/gama/reduced_27/1d/png/G09_Y6_068_068.png</td><td>1.27968</td><td>1.55596</td><td>-99999.0</td><td>G09</td><td>7000</td><td>329448</td><td>1301m002</td><td>1062</td><td>DEV</td><td>130.240152626</td><td>-0.335444019665</td><td>5.93692e+11</td><td>4.48749e+11</td><td>38615.2 .. 52195.2</td><td>0.0263749</td><td>0.0</td><td>3.47821</td><td>10.8678</td><td>0.0</td><td>23.4561</td><td>0.0</td><td>42.9757</td><td>32.8101</td><td>162.825</td><td>348.192</td><td>0.0</td><td>522.196</td><td>333.64</td><td>0.0</td><td>11.7384</td><td>0.0</td><td>2.00756</td><td>0.417957</td><td>0.000740393</td><td>1.74611e-05</td><td>0.907513</td><td>0.924895</td><td>0.948767</td><td>0.962065</td><td>0.971011</td><td>0.974484</td><td>0.99554</td><td>0.997259</td><td>0.999415</td><td>0.999779</td><td>0</td><td>29</td><td>16</td><td>0</td><td>4</td><td>0</td><td>131</td><td>130</td><td>12</td><td>12</td><td>0.0</td><td>0.993608</td><td>1.21131</td><td>0.0</td><td>1.05508</td><td>0.0</td><td>1.91409</td><td>0.514041</td><td>0.43401</td><td>0.161902</td><td>0.0</td><td>0.0485073</td><td>0.0407877</td><td>0.0</td><td>0.0651225</td><td>0.0</td><td>0.432813</td><td>0.578069</td><td>0.97999</td><td>1.58554</td><td>0.0</td><td>0.0376445</td><td>0.0383392</td><td>0.0</td><td>0.0524969</td><td>0.0</td><td>0.0</td><td>0.952864</td><td>0.933673</td><td>0.0</td><td>0.698294</td><td>0.0</td><td>0</td><td>0</td><td>0</td><td>0</td><td>0</td><td>0</td><td>0</td><td>0</td><td>0</td><td>0</td><td>0</td><td>0</td><td>0</td><td>0</td><td>0.0</td><td>1.58127</td><td>1.32213</td><td>0.0</td><td>1.0468</td><td>0.0</td><td>0.0</td><td>2862.15</td><td>2485.87</td><td>0.0</td><td>103.386</td><td>0.0</td><td>0.0</td><td>1874.27</td><td>1433.31</td><td>0.0</td><td>47.6907</td><td>0.0</td><td>1300p000</td><td>1.0</td><td>1.0</td><td>1.78888</td><td>7481.71</td><td>0.16352</td><td>21753.5</td><td>-0.126144</td><td>17587.3</td><td>0.0</td><td>0.0</td><td>0.0</td><td>0.0</td><td>0.0</td><td>0.0</td><td>0.0</td><td>0.876361</td><td>2.73823</td><td>0.0</td><td>5.90993</td><td>0.0</td><td>0.0</td><td>0.876833</td><td>2.73966</td><td>0.0</td><td>5.91284</td><td>0.0</td><td>0</td><td>0.0</td><td>0.0</td><td>0.0</td><td>0.0</td><td>0.0</td><td>0.0</td><td>0.0</td><td>False</td><td>0.0</td><td>0.0</td><td>0.0</td><td>0.0</td><td>0.0</td><td>0.0</td><td>False</td></tr>\n",
       "<tr><td>4347055</td><td>GAMAJ115412.54-000153.2</td><td>8</td><td>2</td><td>0</td><td>0.04</td><td>319893319972841472</td><td>SDSS</td><td>1</td><td>178.55228</td><td>-0.03146</td><td>3808.03</td><td>9215.1</td><td>0.72998</td><td>5</td><td>0.0</td><td>/GAMA/dr3/data/spectra/sdss/spec-0284-51943-0501.fit</td><td>http://www.gama-survey.org/dr3/data/spectra/sdss/spec-0284-51943-0501.fit</td><td>http://www.gama-survey.org/dr3/data/spectra/sdss/png/spec-0284-51943-0501.png</td><td>0.953326</td><td>8.15631</td><td>-99999.0</td><td>G12</td><td>7000</td><td>331082</td><td>1786p000</td><td>1891</td><td>PSF</td><td>178.552262081</td><td>-0.0314691432074</td><td>5.76763e+14</td><td>2.89849e+15</td><td>1.44962e+06 .. 0.0</td><td>0.0201552</td><td>0.0</td><td>72.1506</td><td>72.6514</td><td>0.0</td><td>76.6271</td><td>0.0</td><td>401.152</td><td>722.085</td><td>1963.89</td><td>5567.73</td><td>0.0</td><td>103.808</td><td>87.681</td><td>0.0</td><td>76.1084</td><td>0.0</td><td>2.52379</td><td>0.468231</td><td>0.000889815</td><td>1.93846e-05</td><td>0.928521</td><td>0.942081</td><td>0.960607</td><td>0.970879</td><td>0.97777</td><td>0.980442</td><td>0.99659</td><td>0.997904</td><td>0.999553</td><td>0.999831</td><td>0</td><td>3</td><td>3</td><td>0</td><td>4</td><td>0</td><td>116</td><td>113</td><td>13</td><td>13</td><td>0.0</td><td>18.6914</td><td>6.47977</td><td>0.0</td><td>8.08036</td><td>0.0</td><td>165.433</td><td>64.7188</td><td>2.67262</td><td>0.360216</td><td>0.0</td><td>1.04125e-05</td><td>0.00010637</td><td>0.0</td><td>5.94935e-05</td><td>0.0</td><td>0.0155861</td><td>0.0123213</td><td>0.0484702</td><td>0.138699</td><td>0.0</td><td>0.0128417</td><td>0.00823256</td><td>0.0</td><td>0.0261123</td><td>0.0</td><td>0.0</td><td>0.999174</td><td>0.999116</td><td>0.0</td><td>0.999659</td><td>0.0</td><td>0</td><td>0</td><td>0</td><td>0</td><td>0</td><td>0</td><td>0</td><td>0</td><td>0</td><td>0</td><td>0</td><td>0</td><td>0</td><td>0</td><td>0.0</td><td>1.28973</td><td>1.84087</td><td>0.0</td><td>1.11772</td><td>0.0</td><td>0.0</td><td>1376.25</td><td>434.463</td><td>0.0</td><td>182.437</td><td>0.0</td><td>0.0</td><td>740.749</td><td>277.823</td><td>0.0</td><td>88.8129</td><td>0.0</td><td>1784p000</td><td>0.0</td><td>0.0</td><td>0.0</td><td>0.0</td><td>0.0</td><td>0.0</td><td>0.0</td><td>0.0</td><td>0.0</td><td>0.0</td><td>0.0</td><td>0.0</td><td>0.0</td><td>0.0</td><td>0.0</td><td>56.2061</td><td>56.5962</td><td>0.0</td><td>59.6933</td><td>0.0</td><td>0.0</td><td>56.2065</td><td>56.5978</td><td>0.0</td><td>59.6976</td><td>0.0</td><td>3795173844530538240</td><td>17.7241</td><td>329.021</td><td>17.7944</td><td>72.15</td><td>17.3838</td><td>76.7319</td><td>0.13539</td><td>False</td><td>0.04153</td><td>39.5074</td><td>-0.172595</td><td>10.5845</td><td>-0.0226435</td><td>46.7199</td><td>False</td></tr>\n",
       "<tr><td>8000136</td><td>GAMAJ021606.07-051722.7</td><td>128</td><td>1</td><td>1</td><td>0.0</td><td>G02_Y6_009_185</td><td>GAMA</td><td>5</td><td>34.02533</td><td>-5.28966</td><td>3726.34</td><td>8856.36</td><td>0.05575</td><td>4</td><td>1.0</td><td>/GAMA/dr3/data/spectra/gama/reduced_27/1d/G02_Y6_009_185.fit</td><td>http://www.gama-survey.org/dr3/data/spectra/gama/reduced_27/1d/G02_Y6_009_185.fit</td><td>http://www.gama-survey.org/dr3/data/spectra/gama/reduced_27/1d/png/G02_Y6_009_185.png</td><td>1.11364</td><td>5.47071</td><td>27.0149</td><td>G02</td><td>7000</td><td>300289</td><td>0339m052</td><td>2813</td><td>PSF</td><td>34.0253470893</td><td>-5.28966297904</td><td>6.93255e+13</td><td>1.70828e+14</td><td>6.3201e+06 .. 0.0</td><td>0.0213387</td><td>0.0</td><td>49.7494</td><td>70.2199</td><td>0.0</td><td>64.7079</td><td>0.0</td><td>138.138</td><td>153.721</td><td>554.263</td><td>2035.95</td><td>0.0</td><td>1007.73</td><td>468.279</td><td>0.0</td><td>362.291</td><td>0.0</td><td>3.68856</td><td>0.666497</td><td>0.00212851</td><td>4.54843e-05</td><td>0.924487</td><td>0.938787</td><td>0.958342</td><td>0.969196</td><td>0.97648</td><td>0.979306</td><td>0.99639</td><td>0.997782</td><td>0.999526</td><td>0.999821</td><td>0</td><td>10</td><td>6</td><td>0</td><td>9</td><td>0</td><td>159</td><td>149</td><td>29</td><td>28</td><td>0.0</td><td>663.995</td><td>1174.74</td><td>0.0</td><td>830.775</td><td>0.0</td><td>1669.57</td><td>99.8404</td><td>4.14192</td><td>0.191752</td><td>0.0</td><td>0.013091</td><td>0.0128202</td><td>0.0</td><td>0.0385555</td><td>0.0</td><td>3.85789</td><td>2.77025</td><td>0.443364</td><td>0.156253</td><td>0.0</td><td>0.00421351</td><td>0.00874924</td><td>0.0</td><td>0.103194</td><td>0.0</td><td>0.0</td><td>0.999915</td><td>1.0</td><td>0.0</td><td>0.930378</td><td>0.0</td><td>0</td><td>0</td><td>0</td><td>0</td><td>128</td><td>0</td><td>0</td><td>0</td><td>0</td><td>0</td><td>0</td><td>0</td><td>0</td><td>0</td><td>0.0</td><td>1.2829</td><td>1.10955</td><td>0.0</td><td>1.00849</td><td>0.0</td><td>0.0</td><td>9207.64</td><td>4085.19</td><td>0.0</td><td>859.787</td><td>0.0</td><td>0.0</td><td>5159.64</td><td>1989.4</td><td>0.0</td><td>378.629</td><td>0.0</td><td>0334m046</td><td>0.0</td><td>0.0</td><td>0.0</td><td>0.0</td><td>0.0</td><td>0.0</td><td>0.0</td><td>0.0</td><td>0.0</td><td>0.0</td><td>0.0</td><td>0.0</td><td>0.0</td><td>0.0</td><td>0.0</td><td>38.6028</td><td>54.4868</td><td>0.0</td><td>50.2098</td><td>0.0</td><td>0.0</td><td>38.6158</td><td>54.5159</td><td>0.0</td><td>50.2515</td><td>0.0</td><td>2488164065986876928</td><td>18.5834</td><td>33.7471</td><td>18.2434</td><td>14.2092</td><td>17.367</td><td>20.4463</td><td>1.4613</td><td>False</td><td>-0.326957</td><td>5.24367</td><td>-0.102007</td><td>1.96467</td><td>0.274491</td><td>4.77719</td><td>False</td></tr>\n",
       "<tr><td>8000279</td><td>GAMAJ020330.57-042019.2</td><td>128</td><td>1</td><td>1</td><td>0.0</td><td>G02_Y6_013_166</td><td>GAMA</td><td>5</td><td>30.87738</td><td>-4.33868</td><td>3726.34</td><td>8856.36</td><td>0.17494</td><td>4</td><td>1.0</td><td>/GAMA/dr3/data/spectra/gama/reduced_27/1d/G02_Y6_013_166.fit</td><td>http://www.gama-survey.org/dr3/data/spectra/gama/reduced_27/1d/G02_Y6_013_166.fit</td><td>http://www.gama-survey.org/dr3/data/spectra/gama/reduced_27/1d/png/G02_Y6_013_166.png</td><td>1.3119</td><td>2.1383</td><td>11.4811</td><td>G02</td><td>7000</td><td>306021</td><td>0309m042</td><td>1305</td><td>DEV</td><td>30.8773729685</td><td>-4.33866639416</td><td>7.0497e+11</td><td>1.4895e+11</td><td>539559.0 .. 820179.0</td><td>0.0236587</td><td>0.0</td><td>35.5164</td><td>77.5803</td><td>0.0</td><td>134.92</td><td>0.0</td><td>198.517</td><td>270.052</td><td>313.316</td><td>615.154</td><td>0.0</td><td>130.313</td><td>70.2718</td><td>0.0</td><td>12.6145</td><td>0.0</td><td>1.76706</td><td>0.3554</td><td>0.00106839</td><td>2.66717e-05</td><td>0.916629</td><td>0.932362</td><td>0.953919</td><td>0.965904</td><td>0.973957</td><td>0.977082</td><td>0.995999</td><td>0.997541</td><td>0.999475</td><td>0.999802</td><td>0</td><td>5</td><td>4</td><td>0</td><td>5</td><td>0</td><td>139</td><td>139</td><td>21</td><td>21</td><td>0.0</td><td>1.86786</td><td>3.87665</td><td>0.0</td><td>1.76436</td><td>0.0</td><td>138.337</td><td>45.6495</td><td>0.770433</td><td>0.0900011</td><td>0.0</td><td>0.00067435</td><td>0.000389805</td><td>0.0</td><td>0.000407639</td><td>0.0</td><td>0.226967</td><td>0.196413</td><td>0.130965</td><td>0.797829</td><td>0.0</td><td>0.0405339</td><td>0.0392572</td><td>0.0</td><td>0.0390493</td><td>0.0</td><td>0.0</td><td>0.954226</td><td>0.956092</td><td>0.0</td><td>0.953838</td><td>0.0</td><td>0</td><td>0</td><td>0</td><td>0</td><td>0</td><td>0</td><td>0</td><td>0</td><td>0</td><td>0</td><td>0</td><td>0</td><td>0</td><td>0</td><td>0.0</td><td>1.75818</td><td>1.09192</td><td>0.0</td><td>1.21008</td><td>0.0</td><td>0.0</td><td>1391.22</td><td>1773.9</td><td>0.0</td><td>157.816</td><td>0.0</td><td>0.0</td><td>965.016</td><td>898.22</td><td>0.0</td><td>82.0638</td><td>0.0</td><td>0303m046</td><td>1.0</td><td>1.0</td><td>2.06972</td><td>72151.5</td><td>-0.00689863</td><td>275331.0</td><td>0.109291</td><td>551690.0</td><td>0.0</td><td>0.0</td><td>0.0</td><td>0.0</td><td>0.0</td><td>0.0</td><td>0.0</td><td>7.51421</td><td>16.4137</td><td>0.0</td><td>28.545</td><td>0.0</td><td>0.0</td><td>7.51621</td><td>16.4169</td><td>0.0</td><td>28.5534</td><td>0.0</td><td>2492211054755645952</td><td>20.1746</td><td>52.5441</td><td>19.2288</td><td>12.5135</td><td>17.9897</td><td>19.3763</td><td>15.7516</td><td>False</td><td>0.0</td><td>0.0</td><td>0.0</td><td>0.0</td><td>0.0</td><td>0.0</td><td>False</td></tr>\n",
       "<tr><td>8000291</td><td>GAMAJ021238.53-043404.6</td><td>128</td><td>1</td><td>1</td><td>0.07</td><td>G02_Y6_007_086</td><td>GAMA</td><td>5</td><td>33.16058</td><td>-4.56795</td><td>3726.34</td><td>8856.36</td><td>0.01075</td><td>3</td><td>0.98</td><td>/GAMA/dr3/data/spectra/gama/reduced_27/1d/G02_Y6_007_086.fit</td><td>http://www.gama-survey.org/dr3/data/spectra/gama/reduced_27/1d/G02_Y6_007_086.fit</td><td>http://www.gama-survey.org/dr3/data/spectra/gama/reduced_27/1d/png/G02_Y6_007_086.png</td><td>1.01964</td><td>0.82506</td><td>2.3714</td><td>G02</td><td>7000</td><td>304594</td><td>0332m045</td><td>1631</td><td>PSF</td><td>33.1605721091</td><td>-4.5679511457</td><td>3.70999e+14</td><td>3.76153e+14</td><td>3.75984e+06 .. 0.0</td><td>0.0194508</td><td>0.0</td><td>61.01</td><td>79.4896</td><td>0.0</td><td>72.3951</td><td>0.0</td><td>116.614</td><td>247.234</td><td>686.456</td><td>1156.78</td><td>0.0</td><td>388.931</td><td>279.962</td><td>0.0</td><td>103.757</td><td>0.0</td><td>3.05054</td><td>0.561514</td><td>0.00170177</td><td>3.63852e-05</td><td>0.930931</td><td>0.944048</td><td>0.961957</td><td>0.971882</td><td>0.978539</td><td>0.981119</td><td>0.996709</td><td>0.997978</td><td>0.999568</td><td>0.999837</td><td>0</td><td>9</td><td>7</td><td>0</td><td>5</td><td>0</td><td>131</td><td>126</td><td>23</td><td>23</td><td>0.0</td><td>15.0889</td><td>14.01</td><td>0.0</td><td>7.75526</td><td>0.0</td><td>13.3204</td><td>7.78649</td><td>0.551375</td><td>0.124009</td><td>0.0</td><td>2.76715e-05</td><td>2.0933e-05</td><td>0.0</td><td>4.90264e-05</td><td>0.0</td><td>0.0231607</td><td>0.0102669</td><td>0.0808524</td><td>0.244099</td><td>0.0</td><td>0.00477464</td><td>0.00782324</td><td>0.0</td><td>0.0166889</td><td>0.0</td><td>0.0</td><td>0.999998</td><td>1.0</td><td>0.0</td><td>0.999999</td><td>0.0</td><td>0</td><td>0</td><td>0</td><td>0</td><td>0</td><td>0</td><td>0</td><td>0</td><td>0</td><td>0</td><td>0</td><td>0</td><td>0</td><td>0</td><td>0.0</td><td>1.72087</td><td>1.36887</td><td>0.0</td><td>1.1227</td><td>0.0</td><td>0.0</td><td>2848.63</td><td>2278.71</td><td>0.0</td><td>236.77</td><td>0.0</td><td>0.0</td><td>1833.28</td><td>1218.28</td><td>0.0</td><td>112.181</td><td>0.0</td><td>0334m046</td><td>0.0</td><td>0.0</td><td>0.0</td><td>0.0</td><td>0.0</td><td>0.0</td><td>0.0</td><td>0.0</td><td>0.0</td><td>0.0</td><td>0.0</td><td>0.0</td><td>0.0</td><td>0.0</td><td>0.0</td><td>47.5168</td><td>61.9094</td><td>0.0</td><td>56.3839</td><td>0.0</td><td>0.0</td><td>47.5168</td><td>61.9094</td><td>0.0</td><td>56.3839</td><td>0.0</td><td>2491310004976879488</td><td>17.7967</td><td>268.341</td><td>17.9391</td><td>71.9228</td><td>17.4496</td><td>60.0123</td><td>0.0</td><td>False</td><td>0.152377</td><td>12.8471</td><td>0.562568</td><td>9.52049</td><td>0.233213</td><td>10.6542</td><td>False</td></tr>\n",
       "<tr><td>8001178</td><td>GAMAJ020420.35-045456.8</td><td>128</td><td>1</td><td>1</td><td>0.0</td><td>G02_Y6_016_317</td><td>GAMA</td><td>5</td><td>31.08483</td><td>-4.91579</td><td>3726.34</td><td>8856.36</td><td>0.01286</td><td>4</td><td>1.0</td><td>/GAMA/dr3/data/spectra/gama/reduced_27/1d/G02_Y6_016_317.fit</td><td>http://www.gama-survey.org/dr3/data/spectra/gama/reduced_27/1d/G02_Y6_016_317.fit</td><td>http://www.gama-survey.org/dr3/data/spectra/gama/reduced_27/1d/png/G02_Y6_016_317.png</td><td>0.904215</td><td>32.9982</td><td>169.22</td><td>G02</td><td>7000</td><td>301713</td><td>0309m050</td><td>6259</td><td>EXP</td><td>31.0848576394</td><td>-4.91564521835</td><td>9.04564e+11</td><td>3.9474e+11</td><td>40227.0 .. 51241.8</td><td>0.027283</td><td>0.0</td><td>10.3111</td><td>13.8504</td><td>0.0</td><td>9.82063</td><td>0.0</td><td>22.1815</td><td>19.1289</td><td>211.803</td><td>-391.121</td><td>0.0</td><td>295.859</td><td>119.254</td><td>0.0</td><td>28.8261</td><td>0.0</td><td>3.25209</td><td>0.618304</td><td>0.00155407</td><td>3.47274e-05</td><td>0.904486</td><td>0.922412</td><td>0.94705</td><td>0.960785</td><td>0.970028</td><td>0.973617</td><td>0.995387</td><td>0.997164</td><td>0.999395</td><td>0.999771</td><td>0</td><td>5</td><td>2</td><td>0</td><td>4</td><td>0</td><td>152</td><td>150</td><td>22</td><td>22</td><td>0.0</td><td>6.47362</td><td>10.3645</td><td>0.0</td><td>2.07023</td><td>0.0</td><td>16.1274</td><td>1.93651</td><td>1.02546</td><td>0.233036</td><td>0.0</td><td>2.83058</td><td>1.63533</td><td>0.0</td><td>2.85927</td><td>0.0</td><td>7.25077</td><td>5.79592</td><td>2.52706</td><td>7.67029</td><td>0.0</td><td>9.89837e-05</td><td>1.45064e-07</td><td>0.0</td><td>3.84334e-07</td><td>0.0</td><td>0.0</td><td>0.999942</td><td>0.666667</td><td>0.0</td><td>1.0</td><td>0.0</td><td>0</td><td>0</td><td>0</td><td>0</td><td>0</td><td>0</td><td>0</td><td>0</td><td>0</td><td>0</td><td>0</td><td>0</td><td>0</td><td>0</td><td>0.0</td><td>1.67301</td><td>1.15821</td><td>0.0</td><td>1.07131</td><td>0.0</td><td>0.0</td><td>1597.67</td><td>754.721</td><td>0.0</td><td>104.633</td><td>0.0</td><td>0.0</td><td>993.531</td><td>397.019</td><td>0.0</td><td>49.1579</td><td>0.0</td><td>0303m046</td><td>0.0</td><td>0.0</td><td>0.0</td><td>0.0</td><td>0.0</td><td>0.0</td><td>0.0</td><td>0.0</td><td>0.969894</td><td>25778.4</td><td>0.392727</td><td>24903.3</td><td>0.0394068</td><td>16921.9</td><td>0.0</td><td>4.13651</td><td>5.55636</td><td>0.0</td><td>3.93974</td><td>0.0</td><td>0.0</td><td>7.13845</td><td>9.88958</td><td>0.0</td><td>9.34989</td><td>0.0</td><td>0</td><td>0.0</td><td>0.0</td><td>0.0</td><td>0.0</td><td>0.0</td><td>0.0</td><td>0.0</td><td>False</td><td>0.0</td><td>0.0</td><td>0.0</td><td>0.0</td><td>0.0</td><td>0.0</td><td>False</td></tr>\n",
       "<tr><td>8001968</td><td>GAMAJ022329.04-045454.2</td><td>128</td><td>1</td><td>1</td><td>0.04</td><td>G02_Y6_008_289</td><td>GAMA</td><td>5</td><td>35.87104</td><td>-4.91506</td><td>3726.34</td><td>8856.36</td><td>0.32851</td><td>4</td><td>0.999</td><td>/GAMA/dr3/data/spectra/gama/reduced_27/1d/G02_Y6_008_289.fit</td><td>http://www.gama-survey.org/dr3/data/spectra/gama/reduced_27/1d/G02_Y6_008_289.fit</td><td>http://www.gama-survey.org/dr3/data/spectra/gama/reduced_27/1d/png/G02_Y6_008_289.png</td><td>1.56067</td><td>3.26571</td><td>36.4593</td><td>G02</td><td>7000</td><td>301733</td><td>0359m050</td><td>10218</td><td>COMP</td><td>35.8710251001</td><td>-4.91506099468</td><td>3.10519e+12</td><td>6.08441e+12</td><td>211613.0 .. 280877.0</td><td>0.0255336</td><td>0.0</td><td>3.8362</td><td>10.9412</td><td>0.0</td><td>25.9954</td><td>0.0</td><td>44.7468</td><td>48.1623</td><td>264.417</td><td>1043.75</td><td>0.0</td><td>1715.86</td><td>892.759</td><td>0.0</td><td>217.535</td><td>0.0</td><td>1.4155</td><td>0.282345</td><td>0.000963242</td><td>2.53644e-05</td><td>0.910327</td><td>0.927201</td><td>0.950359</td><td>0.963253</td><td>0.971922</td><td>0.975288</td><td>0.995682</td><td>0.997346</td><td>0.999433</td><td>0.999786</td><td>0</td><td>20</td><td>11</td><td>0</td><td>13</td><td>0</td><td>144</td><td>139</td><td>24</td><td>24</td><td>0.0</td><td>1.29219</td><td>2.56387</td><td>0.0</td><td>4.11505</td><td>0.0</td><td>2.71161</td><td>1.22101</td><td>0.850483</td><td>0.0957902</td><td>0.0</td><td>0.493423</td><td>0.299681</td><td>0.0</td><td>0.182914</td><td>0.0</td><td>0.734465</td><td>0.73084</td><td>0.373907</td><td>0.502319</td><td>0.0</td><td>0.0862075</td><td>0.130393</td><td>0.0</td><td>0.0845773</td><td>0.0</td><td>0.0</td><td>0.738701</td><td>0.677528</td><td>0.0</td><td>0.68266</td><td>0.0</td><td>0</td><td>0</td><td>16</td><td>0</td><td>0</td><td>0</td><td>0</td><td>0</td><td>0</td><td>0</td><td>0</td><td>0</td><td>0</td><td>0</td><td>0.0</td><td>1.3334</td><td>1.14235</td><td>0.0</td><td>0.967523</td><td>0.0</td><td>0.0</td><td>18062.5</td><td>12616.2</td><td>0.0</td><td>2950.64</td><td>0.0</td><td>0.0</td><td>10354.5</td><td>6366.18</td><td>0.0</td><td>1281.33</td><td>0.0</td><td>0364m046</td><td>0.752641</td><td>1.02571e+06</td><td>6.932</td><td>3455.59</td><td>-0.193449</td><td>53631.1</td><td>0.606372</td><td>98667.5</td><td>0.723521</td><td>56764.8</td><td>-0.559514</td><td>16623.3</td><td>-0.510642</td><td>17803.7</td><td>0.0</td><td>0.826188</td><td>2.35637</td><td>0.0</td><td>5.59853</td><td>0.0</td><td>0.0</td><td>0.826193</td><td>2.35639</td><td>0.0</td><td>5.60721</td><td>0.0</td><td>0</td><td>0.0</td><td>0.0</td><td>0.0</td><td>0.0</td><td>0.0</td><td>0.0</td><td>0.0</td><td>False</td><td>0.0</td><td>0.0</td><td>0.0</td><td>0.0</td><td>0.0</td><td>0.0</td><td>False</td></tr>\n",
       "<tr><td>8002157</td><td>GAMAJ023104.50-041024.2</td><td>128</td><td>2</td><td>2</td><td>0.04</td><td>G02_Y6_017_279</td><td>GAMA</td><td>5</td><td>37.76875</td><td>-4.17341</td><td>3726.34</td><td>8856.36</td><td>0.2547</td><td>3</td><td>0.953</td><td>/GAMA/dr3/data/spectra/gama/reduced_27/1d/G02_Y6_017_279.fit</td><td>http://www.gama-survey.org/dr3/data/spectra/gama/reduced_27/1d/G02_Y6_017_279.fit</td><td>http://www.gama-survey.org/dr3/data/spectra/gama/reduced_27/1d/png/G02_Y6_017_279.png</td><td>1.1259</td><td>2.93021</td><td>10.8236</td><td>G02</td><td>7000</td><td>306048</td><td>0376m042</td><td>4982</td><td>PSF</td><td>37.7687705239</td><td>-4.17340138831</td><td>3.45063e+13</td><td>2.60508e+13</td><td>152939.0 .. 0.0</td><td>0.0281062</td><td>0.0</td><td>9.08628</td><td>10.1927</td><td>0.0</td><td>10.42</td><td>0.0</td><td>20.4317</td><td>33.4066</td><td>105.795</td><td>89.9961</td><td>0.0</td><td>683.82</td><td>787.399</td><td>0.0</td><td>135.24</td><td>0.0</td><td>3.4528</td><td>0.640553</td><td>0.00202839</td><td>4.53262e-05</td><td>0.90175</td><td>0.920167</td><td>0.945497</td><td>0.959626</td><td>0.969137</td><td>0.972832</td><td>0.995248</td><td>0.997079</td><td>0.999376</td><td>0.999764</td><td>0</td><td>5</td><td>6</td><td>0</td><td>6</td><td>0</td><td>147</td><td>148</td><td>27</td><td>28</td><td>0.0</td><td>3.50044</td><td>2.3215</td><td>0.0</td><td>1.32672</td><td>0.0</td><td>2.10042</td><td>0.590804</td><td>0.422481</td><td>0.14217</td><td>0.0</td><td>0.0</td><td>0.0</td><td>0.0</td><td>0.0</td><td>0.0</td><td>0.040846</td><td>0.045889</td><td>0.135194</td><td>2.13839</td><td>0.0</td><td>0.156165</td><td>0.00754355</td><td>0.0</td><td>0.0165523</td><td>0.0</td><td>0.0</td><td>0.998812</td><td>0.998997</td><td>0.0</td><td>0.998654</td><td>0.0</td><td>0</td><td>128</td><td>0</td><td>0</td><td>0</td><td>0</td><td>0</td><td>0</td><td>0</td><td>0</td><td>0</td><td>0</td><td>0</td><td>0</td><td>0.0</td><td>1.6964</td><td>1.5178</td><td>0.0</td><td>1.13616</td><td>0.0</td><td>0.0</td><td>1508.3</td><td>1440.54</td><td>0.0</td><td>158.013</td><td>0.0</td><td>0.0</td><td>967.32</td><td>898.021</td><td>0.0</td><td>79.5107</td><td>0.0</td><td>0379m046</td><td>0.0</td><td>0.0</td><td>0.0</td><td>0.0</td><td>0.0</td><td>0.0</td><td>0.0</td><td>0.0</td><td>0.0</td><td>0.0</td><td>0.0</td><td>0.0</td><td>0.0</td><td>0.0</td><td>0.0</td><td>7.0681</td><td>7.92876</td><td>0.0</td><td>8.10561</td><td>0.0</td><td>0.0</td><td>7.0681</td><td>7.92876</td><td>0.0</td><td>8.10561</td><td>0.0</td><td>2489308313993973120</td><td>19.9363</td><td>101.663</td><td>19.9082</td><td>7.75711</td><td>19.5968</td><td>9.87473</td><td>2.10606</td><td>False</td><td>0.630183</td><td>1.82363</td><td>0.408211</td><td>0.659812</td><td>1.1175</td><td>0.780655</td><td>False</td></tr>\n",
       "<tr><td>8002184</td><td>GAMAJ022315.37-042559.8</td><td>128</td><td>1</td><td>1</td><td>0.0</td><td>G02_Y6_010_032</td><td>GAMA</td><td>5</td><td>35.81408</td><td>-4.43328</td><td>3726.34</td><td>8856.36</td><td>0.19013</td><td>4</td><td>1.0</td><td>/GAMA/dr3/data/spectra/gama/reduced_27/1d/G02_Y6_010_032.fit</td><td>http://www.gama-survey.org/dr3/data/spectra/gama/reduced_27/1d/G02_Y6_010_032.fit</td><td>http://www.gama-survey.org/dr3/data/spectra/gama/reduced_27/1d/png/G02_Y6_010_032.png</td><td>1.21421</td><td>4.18005</td><td>14.0648</td><td>G02</td><td>7000</td><td>304604</td><td>0357m045</td><td>8649</td><td>PSF</td><td>35.8141273012</td><td>-4.43336499544</td><td>2.00881e+13</td><td>1.26073e+13</td><td>172878.0 .. 0.0</td><td>0.0286657</td><td>0.0</td><td>6.88218</td><td>11.528</td><td>0.0</td><td>14.2046</td><td>0.0</td><td>34.9795</td><td>48.042</td><td>77.6975</td><td>1264.51</td><td>0.0</td><td>1152.91</td><td>808.527</td><td>0.0</td><td>53.9815</td><td>0.0</td><td>3.14848</td><td>0.574067</td><td>0.00157649</td><td>3.36834e-05</td><td>0.899896</td><td>0.918644</td><td>0.944442</td><td>0.958839</td><td>0.968533</td><td>0.972299</td><td>0.995154</td><td>0.997021</td><td>0.999364</td><td>0.99976</td><td>0</td><td>5</td><td>6</td><td>0</td><td>2</td><td>0</td><td>135</td><td>131</td><td>21</td><td>21</td><td>0.0</td><td>27.7102</td><td>60.6748</td><td>0.0</td><td>15.6872</td><td>0.0</td><td>2.76344</td><td>2.02324</td><td>0.488303</td><td>0.0999269</td><td>0.0</td><td>0.265467</td><td>0.309787</td><td>0.0</td><td>0.190959</td><td>0.0</td><td>0.972083</td><td>0.423661</td><td>1.65859</td><td>0.809671</td><td>0.0</td><td>0.000558229</td><td>0.000967259</td><td>0.0</td><td>0.00488534</td><td>0.0</td><td>0.0</td><td>0.83334</td><td>1.0</td><td>0.0</td><td>0.999988</td><td>0.0</td><td>0</td><td>0</td><td>0</td><td>0</td><td>0</td><td>0</td><td>0</td><td>0</td><td>0</td><td>0</td><td>0</td><td>0</td><td>0</td><td>0</td><td>0.0</td><td>1.48517</td><td>1.46949</td><td>0.0</td><td>1.01911</td><td>0.0</td><td>0.0</td><td>2305.26</td><td>1469.94</td><td>0.0</td><td>70.919</td><td>0.0</td><td>0.0</td><td>1428.36</td><td>880.13</td><td>0.0</td><td>32.6884</td><td>0.0</td><td>0364m046</td><td>0.0</td><td>0.0</td><td>0.0</td><td>0.0</td><td>0.0</td><td>0.0</td><td>0.0</td><td>0.0</td><td>0.0</td><td>0.0</td><td>0.0</td><td>0.0</td><td>0.0</td><td>0.0</td><td>0.0</td><td>5.36046</td><td>8.97901</td><td>0.0</td><td>11.0638</td><td>0.0</td><td>0.0</td><td>6.01853</td><td>10.2615</td><td>0.0</td><td>13.1422</td><td>0.0</td><td>2489638472424614016</td><td>20.5222</td><td>89.6092</td><td>19.9751</td><td>6.94577</td><td>18.9993</td><td>25.3806</td><td>1.65509</td><td>False</td><td>0.275429</td><td>1.27981</td><td>0.119923</td><td>0.201548</td><td>3.47784</td><td>0.133016</td><td>False</td></tr>\n",
       "<tr><td>8002951</td><td>GAMAJ020256.82-042247.2</td><td>128</td><td>1</td><td>1</td><td>0.07</td><td>G02_Y6_013_169</td><td>GAMA</td><td>5</td><td>30.73675</td><td>-4.37978</td><td>3726.34</td><td>8856.36</td><td>0.30289</td><td>4</td><td>1.0</td><td>/GAMA/dr3/data/spectra/gama/reduced_27/1d/G02_Y6_013_169.fit</td><td>http://www.gama-survey.org/dr3/data/spectra/gama/reduced_27/1d/G02_Y6_013_169.fit</td><td>http://www.gama-survey.org/dr3/data/spectra/gama/reduced_27/1d/png/G02_Y6_013_169.png</td><td>1.05098</td><td>19.9827</td><td>81.079</td><td>G02</td><td>7000</td><td>304584</td><td>0307m045</td><td>6014</td><td>PSF</td><td>30.7367529352</td><td>-4.37977298285</td><td>1.59958e+13</td><td>2.471e+13</td><td>348094.0 .. 0.0</td><td>0.0253392</td><td>0.0</td><td>11.7707</td><td>19.3225</td><td>0.0</td><td>33.7054</td><td>0.0</td><td>100.118</td><td>121.363</td><td>379.091</td><td>1394.2</td><td>0.0</td><td>532.54</td><td>409.483</td><td>0.0</td><td>106.91</td><td>0.0</td><td>3.14729</td><td>0.591111</td><td>0.00176334</td><td>3.77328e-05</td><td>0.910978</td><td>0.927735</td><td>0.950728</td><td>0.963527</td><td>0.972133</td><td>0.975474</td><td>0.995715</td><td>0.997366</td><td>0.999438</td><td>0.999788</td><td>0</td><td>4</td><td>3</td><td>0</td><td>5</td><td>0</td><td>138</td><td>136</td><td>24</td><td>24</td><td>0.0</td><td>7.29573</td><td>44.2243</td><td>0.0</td><td>23.4</td><td>0.0</td><td>7.82077</td><td>1.6959</td><td>0.778146</td><td>0.12032</td><td>0.0</td><td>2.72987e-05</td><td>4.07302e-06</td><td>0.0</td><td>5.3064e-05</td><td>0.0</td><td>0.00389015</td><td>0.0158885</td><td>0.0711445</td><td>0.297887</td><td>0.0</td><td>0.0110739</td><td>0.00806427</td><td>0.0</td><td>0.0294116</td><td>0.0</td><td>0.0</td><td>0.999117</td><td>0.999576</td><td>0.0</td><td>0.998911</td><td>0.0</td><td>0</td><td>0</td><td>0</td><td>0</td><td>0</td><td>0</td><td>0</td><td>0</td><td>0</td><td>0</td><td>0</td><td>0</td><td>0</td><td>0</td><td>0.0</td><td>1.8288</td><td>1.09658</td><td>0.0</td><td>1.22141</td><td>0.0</td><td>0.0</td><td>1130.29</td><td>1396.52</td><td>0.0</td><td>155.017</td><td>0.0</td><td>0.0</td><td>793.302</td><td>709.41</td><td>0.0</td><td>79.9899</td><td>0.0</td><td>0303m046</td><td>0.0</td><td>0.0</td><td>0.0</td><td>0.0</td><td>0.0</td><td>0.0</td><td>0.0</td><td>0.0</td><td>0.0</td><td>0.0</td><td>0.0</td><td>0.0</td><td>0.0</td><td>0.0</td><td>0.0</td><td>9.1502</td><td>15.0207</td><td>0.0</td><td>26.2015</td><td>0.0</td><td>0.0</td><td>9.1502</td><td>15.0207</td><td>0.0</td><td>26.2015</td><td>0.0</td><td>2492205557197480704</td><td>19.7724</td><td>59.9156</td><td>19.5713</td><td>7.00198</td><td>18.425</td><td>34.5799</td><td>2.95292</td><td>False</td><td>-1.66254</td><td>0.74355</td><td>0.623769</td><td>0.550542</td><td>0.662465</td><td>0.72673</td><td>False</td></tr>\n",
       "</table>"
      ],
      "text/plain": [
       "<Table length=132487>\n",
       " CATAID        GAMA_NAME        IC_FLAG ... PMDEC_IVAR BRIGHTSTARINBLOB\n",
       " int32           str23           int16  ...  float32         bool      \n",
       "------- ----------------------- ------- ... ---------- ----------------\n",
       "   6802 GAMAJ113601.43+004315.3    4104 ...        0.0            False\n",
       "   6806 GAMAJ113605.47+004221.3    4104 ...        0.0            False\n",
       "   6808 GAMAJ113624.17+003932.1    4104 ...        0.0            False\n",
       "   6810 GAMAJ113626.18+004814.0    4104 ...        0.0            False\n",
       "   6813 GAMAJ113615.31+003840.3    4104 ...        0.0            False\n",
       "   6820 GAMAJ113608.43+004721.4    4104 ...        0.0            False\n",
       "   6826 GAMAJ113644.38+004232.5    4104 ...        0.0            False\n",
       "   6830 GAMAJ113707.32+004221.9    4104 ...        0.0            False\n",
       "   6835 GAMAJ113648.63+005020.6    4104 ...        0.0            False\n",
       "   6837 GAMAJ113712.66+004723.9    4104 ...        0.0            False\n",
       "    ...                     ...     ... ...        ...              ...\n",
       "4249802 GAMAJ084057.63-002007.6     520 ...        0.0            False\n",
       "4347055 GAMAJ115412.54-000153.2       8 ...    46.7199            False\n",
       "8000136 GAMAJ021606.07-051722.7     128 ...    4.77719            False\n",
       "8000279 GAMAJ020330.57-042019.2     128 ...        0.0            False\n",
       "8000291 GAMAJ021238.53-043404.6     128 ...    10.6542            False\n",
       "8001178 GAMAJ020420.35-045456.8     128 ...        0.0            False\n",
       "8001968 GAMAJ022329.04-045454.2     128 ...        0.0            False\n",
       "8002157 GAMAJ023104.50-041024.2     128 ...   0.780655            False\n",
       "8002184 GAMAJ022315.37-042559.8     128 ...   0.133016            False\n",
       "8002951 GAMAJ020256.82-042247.2     128 ...    0.72673            False"
      ]
     },
     "execution_count": 6,
     "metadata": {},
     "output_type": "execute_result"
    }
   ],
   "source": [
    "##  The GAMA sample.\n",
    "gama = Table(fits.open(samplefile)[1].data)\n",
    "gama"
   ]
  },
  {
   "cell_type": "code",
   "execution_count": 7,
   "metadata": {},
   "outputs": [
    {
     "name": "stdout",
     "output_type": "stream",
     "text": [
      "Number of GAMA galaxies in the tile: 132487\n"
     ]
    }
   ],
   "source": [
    "print('Number of GAMA galaxies in the tile: {}'.format(len(gama['RA'])))"
   ]
  },
  {
   "cell_type": "code",
   "execution_count": 8,
   "metadata": {},
   "outputs": [],
   "source": [
    "sv_cut = is_point_in_desi(tiles, gama['RA'], gama['DEC'], radius=None)"
   ]
  },
  {
   "cell_type": "code",
   "execution_count": 9,
   "metadata": {},
   "outputs": [],
   "source": [
    "svgama = gama[sv_cut]"
   ]
  },
  {
   "cell_type": "code",
   "execution_count": 11,
   "metadata": {},
   "outputs": [
    {
     "data": {
      "text/plain": [
       "Text(0,0.5,'Declination [deg.]')"
      ]
     },
     "execution_count": 11,
     "metadata": {},
     "output_type": "execute_result"
    },
    {
     "data": {
      "image/png": "[encoded data removed]",
      "text/plain": [
       "<matplotlib.figure.Figure at 0x2aaae23c7978>"
      ]
     },
     "metadata": {},
     "output_type": "display_data"
    }
   ],
   "source": [
    "pl.scatter(gama[sv_cut]['RA'], gama[sv_cut]['DEC'], s=2)\n",
    "\n",
    "pl.xlabel(r'Right Ascension [deg.]')\n",
    "pl.ylabel(r'Declination [deg.]')"
   ]
  },
  {
   "cell_type": "code",
   "execution_count": 19,
   "metadata": {},
   "outputs": [],
   "source": [
    "svgama.write('/global/cscratch1/sd/mjwilson/svdc-summer2018/data/gama_100000.fits', overwrite=True)"
   ]
  },
  {
   "cell_type": "code",
   "execution_count": null,
   "metadata": {},
   "outputs": [],
   "source": []
  },
  {
   "cell_type": "markdown",
   "metadata": {},
   "source": [
    "####  Now switch to the nbodykit environment.  Note:  do not attempt to make DESI-like calls."
   ]
  },
  {
   "cell_type": "code",
   "execution_count": 3,
   "metadata": {},
   "outputs": [],
   "source": [
    "import os\n",
    "import numpy                                        as     np\n",
    "import astropy.io.fits                              as     fits\n",
    "import pylab                                        as     pl\n",
    "\n",
    "from   astropy.table                                import Table"
   ]
  },
  {
   "cell_type": "code",
   "execution_count": 4,
   "metadata": {},
   "outputs": [],
   "source": [
    "from   nbodykit.lab                                 import *\n",
    "from   nbodykit.source.catalog.file                 import FITSCatalog\n",
    "from   nbodykit.algorithms.pair_counters.mocksurvey import SurveyDataPairCount\n",
    "from   nbodykit.transform                           import SkyToCartesian"
   ]
  },
  {
   "cell_type": "code",
   "execution_count": null,
   "metadata": {},
   "outputs": [],
   "source": []
  },
  {
   "cell_type": "code",
   "execution_count": 17,
   "metadata": {},
   "outputs": [],
   "source": [
    "# Define a fiducial (BOSS DR12) cosmology\n",
    "cosmo = cosmology.Cosmology(h=0.676).match(Omega0_m=0.31)"
   ]
  },
  {
   "cell_type": "code",
   "execution_count": null,
   "metadata": {},
   "outputs": [],
   "source": []
  },
  {
   "cell_type": "code",
   "execution_count": 6,
   "metadata": {},
   "outputs": [],
   "source": [
    "gama  = FITSCatalog('/global/cscratch1/sd/mjwilson/svdc-summer2018/data/gama_100000.fits')"
   ]
  },
  {
   "cell_type": "code",
   "execution_count": 10,
   "metadata": {},
   "outputs": [],
   "source": [
    "gama['WEIGHT']   = np.ones_like(gama['RA'])\n",
    "gama['Redshift'] = np.ones_like(gama['Z'])"
   ]
  },
  {
   "cell_type": "code",
   "execution_count": null,
   "metadata": {},
   "outputs": [],
   "source": []
  },
  {
   "cell_type": "code",
   "execution_count": 11,
   "metadata": {},
   "outputs": [],
   "source": [
    "rand  = FITSCatalog('/global/cscratch1/sd/mjwilson/svdc-summer2018/randoms/svrand_100000.fits')"
   ]
  },
  {
   "cell_type": "code",
   "execution_count": 13,
   "metadata": {},
   "outputs": [],
   "source": [
    "rand['WEIGHT']   = np.ones_like(rand['RA'])\n",
    "rand['Redshift'] = np.random.choice(gama['Z'], size=len(rand['RA']), replace=True)"
   ]
  },
  {
   "cell_type": "code",
   "execution_count": 18,
   "metadata": {},
   "outputs": [],
   "source": [
    "##  Limit to the first 50,000 randoms for ease. \n",
    "rand = rand[:50000]"
   ]
  },
  {
   "cell_type": "markdown",
   "metadata": {},
   "source": [
    "####  Note everything here is DASK:  calls set up a network of \"graphs\" that are evaluated on .compute().\n",
    "E.g: "
   ]
  },
  {
   "cell_type": "code",
   "execution_count": 15,
   "metadata": {},
   "outputs": [
    {
     "data": {
      "text/plain": [
       "array([0.46787, 0.26119, 0.14459, ..., 0.54199, 0.33692, 0.23939],\n",
       "      dtype=float32)"
      ]
     },
     "execution_count": 15,
     "metadata": {},
     "output_type": "execute_result"
    }
   ],
   "source": [
    "rand['Redshift'].compute()"
   ]
  },
  {
   "cell_type": "code",
   "execution_count": 16,
   "metadata": {},
   "outputs": [
    {
     "data": {
      "text/plain": [
       "array([[-1.06642644e+03, -6.39746207e+02, -7.78041193e+00],\n",
       "       [-6.29345071e+02, -3.77276580e+02, -3.58448043e+00],\n",
       "       [-3.58992574e+02, -2.15182867e+02, -1.16439375e+00],\n",
       "       ...,\n",
       "       [-1.20774208e+03, -7.30343665e+02, -3.17719073e+01],\n",
       "       [-7.94684729e+02, -4.78418416e+02, -1.84813199e+01],\n",
       "       [-5.78999806e+02, -3.49339867e+02, -1.38856756e+01]])"
      ]
     },
     "execution_count": 16,
     "metadata": {},
     "output_type": "execute_result"
    }
   ],
   "source": [
    "rand['Position'] = SkyToCartesian(rand['RA'], rand['DEC'], rand['Redshift'], cosmo, degrees=True, frame='icrs')\n",
    "rand['Position'].compute()"
   ]
  },
  {
   "cell_type": "raw",
   "metadata": {},
   "source": [
    "'''\n",
    "seps = []\n",
    "\n",
    "for x in rand['Position'].compute():\n",
    "    for y in rand['Position'].compute():\n",
    "        sep = np.sqrt(np.sum((x-y)**2.))\n",
    "        \n",
    "        seps.append(sep)\n",
    "'''"
   ]
  },
  {
   "cell_type": "markdown",
   "metadata": {},
   "source": [
    "#### Now, calculate the Landy-Szalay monopole for this tile of randoms and galaxies.  Note:  nbodykit calls corrfunc (https://corrfunc.readthedocs.io/en/master/) under the hood."
   ]
  },
  {
   "cell_type": "code",
   "execution_count": 19,
   "metadata": {},
   "outputs": [
    {
     "data": {
      "text/plain": [
       "array([  1.,  11.,  21.,  31.,  41.,  51.,  61.,  71.,  81.,  91., 101.,\n",
       "       111., 121., 131., 141., 151., 161., 171., 181., 191., 201., 211.,\n",
       "       221., 231., 241., 251., 261., 271., 281., 291., 301., 311., 321.,\n",
       "       331., 341., 351., 361., 371., 381., 391., 401., 411., 421., 431.,\n",
       "       441., 451., 461., 471., 481., 491., 501., 511., 521., 531., 541.,\n",
       "       551., 561., 571., 581., 591., 601., 611., 621., 631., 641., 651.,\n",
       "       661., 671., 681., 691., 701., 711., 721., 731., 741., 751., 761.,\n",
       "       771., 781., 791., 801., 811., 821., 831., 841., 851., 861., 871.,\n",
       "       881., 891., 901., 911., 921., 931., 941., 951., 961., 971., 981.,\n",
       "       991.])"
      ]
     },
     "execution_count": 19,
     "metadata": {},
     "output_type": "execute_result"
    }
   ],
   "source": [
    "##  First define the binning edges;  Expected units for distances are Mpc/h and degrees.\n",
    "edges = np.arange(1., 1000., 10.)\n",
    "edges"
   ]
  },
  {
   "cell_type": "raw",
   "metadata": {},
   "source": [
    "'''\n",
    "Simple test of the right answer for a small random sample. \n",
    "vals, counts = np.unique(np.digitize(seps, edges), return_counts=True)\n",
    "edges[vals[:-1]], counts[:-1]\n",
    "'''"
   ]
  },
  {
   "cell_type": "code",
   "execution_count": 20,
   "metadata": {},
   "outputs": [],
   "source": [
    "##  Calls to corrfunc. (https://corrfunc.readthedocs.io/en/master/)\n",
    "rr = SurveyDataPairCount('1d', rand, edges, cosmo=cosmo, second=rand, ra='RA', dec='DEC', redshift='Redshift', weight='Weight', show_progress=True)"
   ]
  },
  {
   "cell_type": "code",
   "execution_count": null,
   "metadata": {},
   "outputs": [],
   "source": [
    "rr.run()"
   ]
  },
  {
   "cell_type": "code",
   "execution_count": null,
   "metadata": {},
   "outputs": [],
   "source": [
    "rr = rr.pairs"
   ]
  },
  {
   "cell_type": "code",
   "execution_count": null,
   "metadata": {},
   "outputs": [
    {
     "data": {
      "text/plain": [
       "['r', 'npairs', 'wnpairs']"
      ]
     },
     "execution_count": 23,
     "metadata": {},
     "output_type": "execute_result"
    }
   ],
   "source": [
    "rr.variables"
   ]
  },
  {
   "cell_type": "code",
   "execution_count": null,
   "metadata": {},
   "outputs": [
    {
     "data": {
      "text/plain": [
       "array([  6.3098579 ,  15.82891334,  26.00575066,  35.85987912,\n",
       "        46.00542361,  56.07495993,  65.99944944,  75.81758467,\n",
       "        86.05289972,  95.93966462, 105.95926941, 116.05954243,\n",
       "       126.02170314, 135.80464663, 146.01513916, 156.03325412,\n",
       "       166.04701681, 176.04085988, 185.96450901, 195.96918219,\n",
       "       205.94411695, 215.87213704, 226.03334694, 236.19053529,\n",
       "       245.84457257, 255.93685786, 266.04354512, 275.90949333,\n",
       "       286.04140414, 296.10193253, 306.01264199, 316.00988011,\n",
       "       325.947412  , 335.97437668, 345.93431075, 356.08195045,\n",
       "       365.98950635, 375.86041848, 386.05816217, 395.86061784,\n",
       "       406.02483242, 415.95480633, 425.91577935, 435.94466831,\n",
       "       445.92713411, 455.92393136, 465.95675972, 476.11874105,\n",
       "       485.87590404, 495.99976931, 506.00187392, 516.00090032,\n",
       "       525.89577442, 535.92498039, 546.0445649 , 556.10704367,\n",
       "       566.03264319, 576.00660241, 585.79118827, 596.14173039,\n",
       "       606.08129761, 615.95457772, 626.12386082, 635.80913913,\n",
       "       645.9571549 , 655.97389752, 665.90166412, 675.90662003,\n",
       "       685.97151382, 696.04897603, 705.95227789, 716.00576451,\n",
       "       725.80262708, 736.02985456, 745.8776025 , 755.9641847 ,\n",
       "       766.05869923, 775.84616143, 786.15243342, 795.86946216,\n",
       "       806.1207338 , 815.8234049 , 825.87006444, 836.03953742,\n",
       "       845.79582539, 855.97771683, 866.28272041, 875.96653895,\n",
       "       885.81468888, 895.92230616, 905.97130124, 916.01019419,\n",
       "       925.93492465, 936.15746726, 945.80710861, 956.25897152,\n",
       "       965.79440674, 975.91835082, 986.03175444])"
      ]
     },
     "execution_count": 24,
     "metadata": {},
     "output_type": "execute_result"
    }
   ],
   "source": [
    "rr['r']"
   ]
  },
  {
   "cell_type": "code",
   "execution_count": null,
   "metadata": {},
   "outputs": [
    {
     "data": {
      "text/plain": [
       "array([80246414, 64364976, 61675362, 56422428, 49269960, 51067086,\n",
       "       55379248, 48536694, 49343656, 50006878, 46802582, 45679708,\n",
       "       48791926, 44090132, 40841058, 44408910, 42814636, 44442768,\n",
       "       44222936, 44525302, 43537282, 37940342, 34205888, 39202846,\n",
       "       41529084, 35965218, 37429438, 37258326, 34692324, 36897728,\n",
       "       39424546, 39881342, 41742566, 39829304, 33943394, 33711962,\n",
       "       36032070, 33672452, 32376524, 31036366, 29158236, 28378540,\n",
       "       26627108, 25568688, 25628618, 24583152, 21203238, 22380494,\n",
       "       20980122, 20694506, 20725016, 20285192, 17978678, 15328870,\n",
       "       15133816, 15493536, 18281340, 17876686, 15154064, 14060708,\n",
       "       16679968, 16462422, 17114814, 17844230, 14052376, 12818582,\n",
       "       12818470, 11769206, 11569418, 10987196, 11506560, 10557846,\n",
       "        9611952,  8291188,  7906740,  6583820,  6532672,  6074212,\n",
       "        5907596,  5960876,  6291224,  6064586,  5379920,  5108680,\n",
       "        4581760,  4126914,  4339428,  6144190,  4702734,  3769430,\n",
       "        3545206,  3529556,  2957214,  3228982,  2941958,  2741256,\n",
       "        2874056,  2368468,  2607304], dtype=uint64)"
      ]
     },
     "execution_count": 25,
     "metadata": {},
     "output_type": "execute_result"
    }
   ],
   "source": [
    "rr['npairs']"
   ]
  },
  {
   "cell_type": "code",
   "execution_count": null,
   "metadata": {},
   "outputs": [
    {
     "data": {
      "text/plain": [
       "array([80246414., 64364976., 61675362., 56422428., 49269960., 51067086.,\n",
       "       55379248., 48536694., 49343656., 50006878., 46802582., 45679708.,\n",
       "       48791926., 44090132., 40841058., 44408910., 42814636., 44442768.,\n",
       "       44222936., 44525302., 43537282., 37940342., 34205888., 39202846.,\n",
       "       41529084., 35965218., 37429438., 37258326., 34692324., 36897728.,\n",
       "       39424546., 39881342., 41742566., 39829304., 33943394., 33711962.,\n",
       "       36032070., 33672452., 32376524., 31036366., 29158236., 28378540.,\n",
       "       26627108., 25568688., 25628618., 24583152., 21203238., 22380494.,\n",
       "       20980122., 20694506., 20725016., 20285192., 17978678., 15328870.,\n",
       "       15133816., 15493536., 18281340., 17876686., 15154064., 14060708.,\n",
       "       16679968., 16462422., 17114814., 17844230., 14052376., 12818582.,\n",
       "       12818470., 11769206., 11569418., 10987196., 11506560., 10557846.,\n",
       "        9611952.,  8291188.,  7906740.,  6583820.,  6532672.,  6074212.,\n",
       "        5907596.,  5960876.,  6291224.,  6064586.,  5379920.,  5108680.,\n",
       "        4581760.,  4126914.,  4339428.,  6144190.,  4702734.,  3769430.,\n",
       "        3545206.,  3529556.,  2957214.,  3228982.,  2941958.,  2741256.,\n",
       "        2874056.,  2368468.,  2607304.])"
      ]
     },
     "execution_count": 26,
     "metadata": {},
     "output_type": "execute_result"
    }
   ],
   "source": [
    "rr['wnpairs']"
   ]
  },
  {
   "cell_type": "code",
   "execution_count": null,
   "metadata": {},
   "outputs": [
    {
     "data": {
      "text/plain": [
       "50000"
      ]
     },
     "execution_count": 27,
     "metadata": {},
     "output_type": "execute_result"
    }
   ],
   "source": [
    "rr.attrs['nrand'] = len(rand['RA'])\n",
    "rr.attrs['nrand']"
   ]
  },
  {
   "cell_type": "code",
   "execution_count": null,
   "metadata": {},
   "outputs": [],
   "source": [
    "##  Distinct.\n",
    "rr.attrs['expected_pairs'] = rr.attrs['nrand'] * (rr.attrs['nrand'] - 1) / 2."
   ]
  },
  {
   "cell_type": "code",
   "execution_count": null,
   "metadata": {},
   "outputs": [],
   "source": [
    "rr['npairs_norm'] = rr['npairs'] / rr.attrs['expected_pairs']"
   ]
  },
  {
   "cell_type": "code",
   "execution_count": null,
   "metadata": {},
   "outputs": [],
   "source": []
  },
  {
   "cell_type": "code",
   "execution_count": 32,
   "metadata": {},
   "outputs": [],
   "source": [
    "##  And for DD.\n",
    "dd = SurveyDataPairCount('1d', gama, edges, cosmo=cosmo, second=gama, ra='RA', dec='DEC', redshift='Z', weight='Weight', show_progress=True)"
   ]
  },
  {
   "cell_type": "code",
   "execution_count": 33,
   "metadata": {},
   "outputs": [],
   "source": [
    "dd.run()"
   ]
  },
  {
   "cell_type": "code",
   "execution_count": 34,
   "metadata": {},
   "outputs": [],
   "source": [
    "dd = dd.pairs"
   ]
  },
  {
   "cell_type": "code",
   "execution_count": 35,
   "metadata": {},
   "outputs": [
    {
     "data": {
      "text/plain": [
       "array([  6.87385294,  15.9625299 ,  26.03554312,  35.8097312 ,\n",
       "        45.95335777,  56.06153656,  66.01585982,  75.81440573,\n",
       "        86.05464125,  95.94700276, 105.9701394 , 116.04005769,\n",
       "       126.02977961, 135.80877408, 146.00806343, 156.04951803,\n",
       "       166.03709339, 176.04096534, 185.95035007, 195.96372907,\n",
       "       205.9560813 , 215.88231431, 226.04980343, 236.17011673,\n",
       "       245.84103331, 255.93684146, 266.03429237, 275.92319323,\n",
       "       286.03356237, 296.11619759, 305.99268073, 316.00905387,\n",
       "       325.95074984, 335.97786783, 345.93676099, 356.06673602,\n",
       "       365.98401315, 375.86640982, 386.05430568, 395.86429282,\n",
       "       406.02314244, 415.96173574, 425.91462967, 435.94766307,\n",
       "       445.94880932, 455.91908499, 465.94931362, 476.13323787,\n",
       "       485.86997372, 495.98616331, 505.99592221, 516.00708634,\n",
       "       525.90356567, 535.93012641, 546.02782352, 556.10678549,\n",
       "       566.02358323, 575.98059914, 585.8409666 , 596.09835146,\n",
       "       606.09271712, 615.95365758, 626.11792962, 635.82085087,\n",
       "       645.93418544, 655.9990859 , 665.88652928, 675.90979307,\n",
       "       685.99147798, 696.00440381, 705.94798191, 715.99850412,\n",
       "       725.79251059, 735.9908246 , 745.89535788, 755.96159471,\n",
       "       766.0242859 , 775.85604873, 786.15741903, 795.88515114,\n",
       "       806.09223511, 815.84949243, 825.85364579, 836.04979167,\n",
       "       845.77348838, 855.9744544 , 866.27588684, 875.96547297,\n",
       "       885.83149503, 895.84299855, 905.99032256, 915.97571443,\n",
       "       925.95640639, 936.1383191 , 945.8076847 , 956.25381269,\n",
       "       965.77651815, 975.93746858, 986.03340587])"
      ]
     },
     "execution_count": 35,
     "metadata": {},
     "output_type": "execute_result"
    }
   ],
   "source": [
    "dd['r']"
   ]
  },
  {
   "cell_type": "code",
   "execution_count": 36,
   "metadata": {},
   "outputs": [
    {
     "data": {
      "text/plain": [
       "array([ 881040, 1283664, 1284552, 1175368,  960920,  968784, 1028938,\n",
       "        919038,  908992,  934322,  863398,  836912,  897528,  818710,\n",
       "        764590,  822266,  798898,  817882,  814970,  814838,  793046,\n",
       "        699812,  632588,  721114,  755850,  662528,  686284,  683832,\n",
       "        636308,  678846,  728336,  734480,  769518,  730462,  629496,\n",
       "        615738,  665508,  620870,  601500,  575640,  534436,  525074,\n",
       "        492016,  469886,  471584,  456208,  396824,  417966,  394366,\n",
       "        381534,  386134,  375934,  336784,  289106,  285476,  291092,\n",
       "        336802,  329974,  280828,  263716,  309456,  311926,  318922,\n",
       "        332342,  266742,  239392,  239458,  218720,  218716,  206462,\n",
       "        213398,  195216,  181312,  153634,  148126,  125018,  121744,\n",
       "        113030,  111538,  112780,  116894,  111640,   98992,   93234,\n",
       "         84328,   77804,   81442,  112718,   87866,   69714,   66130,\n",
       "         65642,   54766,   59562,   53998,   50716,   51692,   42900,\n",
       "         46712], dtype=uint64)"
      ]
     },
     "execution_count": 36,
     "metadata": {},
     "output_type": "execute_result"
    }
   ],
   "source": [
    "dd['npairs']"
   ]
  },
  {
   "cell_type": "code",
   "execution_count": 37,
   "metadata": {},
   "outputs": [
    {
     "data": {
      "text/plain": [
       "array([ 881040., 1283664., 1284552., 1175368.,  960920.,  968784.,\n",
       "       1028938.,  919038.,  908992.,  934322.,  863398.,  836912.,\n",
       "        897528.,  818710.,  764590.,  822266.,  798898.,  817882.,\n",
       "        814970.,  814838.,  793046.,  699812.,  632588.,  721114.,\n",
       "        755850.,  662528.,  686284.,  683832.,  636308.,  678846.,\n",
       "        728336.,  734480.,  769518.,  730462.,  629496.,  615738.,\n",
       "        665508.,  620870.,  601500.,  575640.,  534436.,  525074.,\n",
       "        492016.,  469886.,  471584.,  456208.,  396824.,  417966.,\n",
       "        394366.,  381534.,  386134.,  375934.,  336784.,  289106.,\n",
       "        285476.,  291092.,  336802.,  329974.,  280828.,  263716.,\n",
       "        309456.,  311926.,  318922.,  332342.,  266742.,  239392.,\n",
       "        239458.,  218720.,  218716.,  206462.,  213398.,  195216.,\n",
       "        181312.,  153634.,  148126.,  125018.,  121744.,  113030.,\n",
       "        111538.,  112780.,  116894.,  111640.,   98992.,   93234.,\n",
       "         84328.,   77804.,   81442.,  112718.,   87866.,   69714.,\n",
       "         66130.,   65642.,   54766.,   59562.,   53998.,   50716.,\n",
       "         51692.,   42900.,   46712.])"
      ]
     },
     "execution_count": 37,
     "metadata": {},
     "output_type": "execute_result"
    }
   ],
   "source": [
    "dd['wnpairs']"
   ]
  },
  {
   "cell_type": "code",
   "execution_count": 38,
   "metadata": {},
   "outputs": [
    {
     "data": {
      "text/plain": [
       "6790"
      ]
     },
     "execution_count": 38,
     "metadata": {},
     "output_type": "execute_result"
    }
   ],
   "source": [
    "dd.attrs['ngal'] = len(gama['RA'])\n",
    "dd.attrs['ngal']"
   ]
  },
  {
   "cell_type": "code",
   "execution_count": 39,
   "metadata": {},
   "outputs": [],
   "source": [
    "dd.attrs['expected_pairs'] = dd.attrs['ngal'] * (dd.attrs['ngal'] - 1.) / 2."
   ]
  },
  {
   "cell_type": "code",
   "execution_count": 40,
   "metadata": {},
   "outputs": [
    {
     "name": "stdout",
     "output_type": "stream",
     "text": [
      "1.9739888509763368\n"
     ]
    }
   ],
   "source": [
    "print(dd['npairs'].sum() / dd.attrs['expected_pairs'])"
   ]
  },
  {
   "cell_type": "code",
   "execution_count": 41,
   "metadata": {},
   "outputs": [],
   "source": [
    "dd['npairs_norm'] = dd['npairs'] / dd.attrs['expected_pairs']"
   ]
  },
  {
   "cell_type": "code",
   "execution_count": 42,
   "metadata": {},
   "outputs": [
    {
     "data": {
      "text/plain": [
       "array([0.03822522, 0.05569366, 0.05573219, 0.05099508, 0.04169094,\n",
       "       0.04203213, 0.044642  , 0.03987382, 0.03943796, 0.04053694,\n",
       "       0.0374598 , 0.03631067, 0.03894058, 0.03552094, 0.03317287,\n",
       "       0.03567523, 0.03466137, 0.03548502, 0.03535868, 0.03535295,\n",
       "       0.03440747, 0.03036238, 0.02744577, 0.0312866 , 0.03279367,\n",
       "       0.02874476, 0.02977545, 0.02966906, 0.02760716, 0.02945274,\n",
       "       0.03159994, 0.0318665 , 0.03338668, 0.03169217, 0.02731162,\n",
       "       0.0267147 , 0.02887405, 0.02693736, 0.02609697, 0.02497499,\n",
       "       0.0231873 , 0.02278111, 0.02134684, 0.0203867 , 0.02046037,\n",
       "       0.01979326, 0.0172168 , 0.01813407, 0.01711015, 0.01655342,\n",
       "       0.01675299, 0.01631045, 0.01461187, 0.01254329, 0.0123858 ,\n",
       "       0.01262946, 0.01461265, 0.01431641, 0.01218414, 0.01144171,\n",
       "       0.01342621, 0.01353337, 0.0138369 , 0.01441915, 0.011573  ,\n",
       "       0.01038638, 0.01038924, 0.00948949, 0.00948932, 0.00895766,\n",
       "       0.00925859, 0.00846974, 0.00786649, 0.00666564, 0.00642667,\n",
       "       0.00542409, 0.00528204, 0.00490397, 0.00483924, 0.00489313,\n",
       "       0.00507162, 0.00484367, 0.00429491, 0.0040451 , 0.0036587 ,\n",
       "       0.00337564, 0.00353348, 0.00489044, 0.0038122 , 0.00302465,\n",
       "       0.00286915, 0.00284798, 0.0023761 , 0.00258419, 0.00234278,\n",
       "       0.00220039, 0.00224273, 0.00186128, 0.00202667])"
      ]
     },
     "execution_count": 42,
     "metadata": {},
     "output_type": "execute_result"
    }
   ],
   "source": [
    "dd['npairs_norm']"
   ]
  },
  {
   "cell_type": "code",
   "execution_count": null,
   "metadata": {},
   "outputs": [],
   "source": []
  },
  {
   "cell_type": "code",
   "execution_count": 43,
   "metadata": {},
   "outputs": [],
   "source": [
    "##  And for DR.\n",
    "dr = SurveyDataPairCount('1d', rand, edges, cosmo=cosmo, second=gama, ra='RA', dec='DEC', redshift='Redshift', weight='Weight', show_progress=True)"
   ]
  },
  {
   "cell_type": "code",
   "execution_count": 44,
   "metadata": {},
   "outputs": [],
   "source": [
    "dr.run()"
   ]
  },
  {
   "cell_type": "code",
   "execution_count": 45,
   "metadata": {},
   "outputs": [],
   "source": [
    "dr = dr.pairs"
   ]
  },
  {
   "cell_type": "code",
   "execution_count": 47,
   "metadata": {},
   "outputs": [],
   "source": [
    "dr.attrs['nrand'] = len(rand['RA'])\n",
    "dr.attrs['ngal']  = len(gama['RA'])"
   ]
  },
  {
   "cell_type": "code",
   "execution_count": 48,
   "metadata": {},
   "outputs": [],
   "source": [
    "dr.attrs['expected_pairs'] = dr.attrs['ngal'] * dr.attrs['nrand']"
   ]
  },
  {
   "cell_type": "code",
   "execution_count": 49,
   "metadata": {},
   "outputs": [],
   "source": [
    "dr['npairs_norm'] = dr['npairs'] / dr.attrs['expected_pairs']"
   ]
  },
  {
   "cell_type": "code",
   "execution_count": 50,
   "metadata": {},
   "outputs": [
    {
     "data": {
      "text/plain": [
       "array([0.00000000e+00, 0.00000000e+00, 0.00000000e+00, 0.00000000e+00,\n",
       "       0.00000000e+00, 0.00000000e+00, 0.00000000e+00, 0.00000000e+00,\n",
       "       0.00000000e+00, 0.00000000e+00, 0.00000000e+00, 9.00147275e-06,\n",
       "       1.79381443e-05, 1.94432990e-05, 1.65036819e-05, 1.43151694e-05,\n",
       "       2.79823270e-06, 0.00000000e+00, 0.00000000e+00, 0.00000000e+00,\n",
       "       0.00000000e+00, 0.00000000e+00, 0.00000000e+00, 0.00000000e+00,\n",
       "       0.00000000e+00, 6.71192931e-05, 7.74491900e-05, 3.54315169e-05,\n",
       "       0.00000000e+00, 9.14845361e-05, 9.36200295e-05, 1.48954345e-05,\n",
       "       0.00000000e+00, 0.00000000e+00, 0.00000000e+00, 0.00000000e+00,\n",
       "       0.00000000e+00, 0.00000000e+00, 0.00000000e+00, 0.00000000e+00,\n",
       "       0.00000000e+00, 0.00000000e+00, 4.30397644e-05, 9.37231222e-05,\n",
       "       3.23711340e-06, 0.00000000e+00, 0.00000000e+00, 1.26338733e-04,\n",
       "       5.36612666e-05, 0.00000000e+00, 0.00000000e+00, 0.00000000e+00,\n",
       "       0.00000000e+00, 0.00000000e+00, 0.00000000e+00, 0.00000000e+00,\n",
       "       1.18868925e-04, 1.13107511e-06, 0.00000000e+00, 0.00000000e+00,\n",
       "       0.00000000e+00, 0.00000000e+00, 0.00000000e+00, 0.00000000e+00,\n",
       "       0.00000000e+00, 1.18645066e-05, 3.19416789e-04, 2.87187040e-05,\n",
       "       0.00000000e+00, 8.00000000e-05, 0.00000000e+00, 0.00000000e+00,\n",
       "       6.91399116e-05, 1.10860088e-04, 6.61413844e-05, 2.30212077e-04,\n",
       "       3.64653903e-06, 0.00000000e+00, 0.00000000e+00, 0.00000000e+00,\n",
       "       2.45534610e-04, 3.10359352e-04, 3.01976436e-04, 2.21296024e-05,\n",
       "       7.01157585e-04, 5.49455081e-04, 2.39213549e-04, 4.29976436e-04,\n",
       "       4.72338733e-04, 1.00704271e-03, 6.97879234e-04, 4.97260677e-04,\n",
       "       4.68771723e-04, 7.07522828e-04, 3.14954345e-04, 1.51707806e-03,\n",
       "       1.19734904e-03, 0.00000000e+00, 2.77767305e-04])"
      ]
     },
     "execution_count": 50,
     "metadata": {},
     "output_type": "execute_result"
    }
   ],
   "source": [
    "dr['npairs_norm']"
   ]
  },
  {
   "cell_type": "markdown",
   "metadata": {},
   "source": [
    "####  Use the calculated pair counts to estimate the Landy-Szalay monopole."
   ]
  },
  {
   "cell_type": "code",
   "execution_count": 51,
   "metadata": {},
   "outputs": [],
   "source": [
    "landy = {'r': dd['r'], 'xi': (dd['npairs_norm'] - 2.0 * dr['npairs_norm'] + rr['npairs_norm']) / rr['npairs_norm']}"
   ]
  },
  {
   "cell_type": "code",
   "execution_count": 52,
   "metadata": {},
   "outputs": [
    {
     "data": {
      "text/plain": [
       "array([  6.87385294,  15.9625299 ,  26.03554312,  35.8097312 ,\n",
       "        45.95335777,  56.06153656,  66.01585982,  75.81440573,\n",
       "        86.05464125,  95.94700276, 105.9701394 , 116.04005769,\n",
       "       126.02977961, 135.80877408, 146.00806343, 156.04951803,\n",
       "       166.03709339, 176.04096534, 185.95035007, 195.96372907,\n",
       "       205.9560813 , 215.88231431, 226.04980343, 236.17011673,\n",
       "       245.84103331, 255.93684146, 266.03429237, 275.92319323,\n",
       "       286.03356237, 296.11619759, 305.99268073, 316.00905387,\n",
       "       325.95074984, 335.97786783, 345.93676099, 356.06673602,\n",
       "       365.98401315, 375.86640982, 386.05430568, 395.86429282,\n",
       "       406.02314244, 415.96173574, 425.91462967, 435.94766307,\n",
       "       445.94880932, 455.91908499, 465.94931362, 476.13323787,\n",
       "       485.86997372, 495.98616331, 505.99592221, 516.00708634,\n",
       "       525.90356567, 535.93012641, 546.02782352, 556.10678549,\n",
       "       566.02358323, 575.98059914, 585.8409666 , 596.09835146,\n",
       "       606.09271712, 615.95365758, 626.11792962, 635.82085087,\n",
       "       645.93418544, 655.9990859 , 665.88652928, 675.90979307,\n",
       "       685.99147798, 696.00440381, 705.94798191, 715.99850412,\n",
       "       725.79251059, 735.9908246 , 745.89535788, 755.96159471,\n",
       "       766.0242859 , 775.85604873, 786.15741903, 795.88515114,\n",
       "       806.09223511, 815.84949243, 825.85364579, 836.04979167,\n",
       "       845.77348838, 855.9744544 , 866.27588684, 875.96547297,\n",
       "       885.83149503, 895.84299855, 905.99032256, 915.97571443,\n",
       "       925.95640639, 936.1383191 , 945.8076847 , 956.25381269,\n",
       "       965.77651815, 975.93746858, 986.03340587])"
      ]
     },
     "execution_count": 52,
     "metadata": {},
     "output_type": "execute_result"
    }
   ],
   "source": [
    "landy['r']"
   ]
  },
  {
   "cell_type": "code",
   "execution_count": 53,
   "metadata": {},
   "outputs": [
    {
     "data": {
      "text/plain": [
       "array([1.59542317, 2.08157712, 2.12952467, 2.12973825, 2.05769576,\n",
       "       2.02882526, 2.00762258, 2.0268784 , 1.99904368, 2.01326391,\n",
       "       2.00045363, 1.99310882, 1.9966794 , 2.00593225, 2.01427338,\n",
       "       2.00334268, 2.01177674, 1.99803389, 1.99942403, 1.99247629,\n",
       "       1.9878541 , 2.00031293, 2.002942  , 1.99756699, 1.98704966,\n",
       "       1.99436165, 1.98919318, 1.99298638, 1.99469453, 1.99156456,\n",
       "       1.99595524, 1.99783735, 1.99975913, 1.99460503, 2.00575789,\n",
       "       1.99053008, 2.00165879, 1.9999578 , 2.00753734, 2.00585607,\n",
       "       1.99400873, 2.00342798, 1.99805889, 1.98747974, 1.99759019,\n",
       "       2.0064242 , 2.01496597, 1.99869546, 2.01301185, 1.99984786,\n",
       "       2.01041296, 2.00505128, 2.01589643, 2.02282822, 2.02300297,\n",
       "       2.01890915, 1.98287569, 2.00087495, 2.00500224, 2.01715006,\n",
       "       2.00614236, 2.02757513, 2.0105738 , 2.01005066, 2.02943133,\n",
       "       2.01049007, 1.95079708, 2.00175245, 2.02523821, 2.00087905,\n",
       "       2.0057744 , 2.00275729, 2.00500593, 1.97148161, 1.99507778,\n",
       "       1.94237986, 2.00928169, 2.00915882, 2.02392419, 2.02607178,\n",
       "       1.91008886, 1.870394  , 1.85756101, 1.97891134, 1.61557533,\n",
       "       1.68958487, 1.88001042, 1.81996238, 1.7621794 , 1.33511015,\n",
       "       1.51949025, 1.65639165, 1.60806038, 1.45258709, 1.72776369,\n",
       "       0.61981354, 0.93390824, 1.98230309, 1.70528082])"
      ]
     },
     "execution_count": 53,
     "metadata": {},
     "output_type": "execute_result"
    }
   ],
   "source": [
    "landy['xi']"
   ]
  },
  {
   "cell_type": "code",
   "execution_count": 55,
   "metadata": {},
   "outputs": [
    {
     "data": {
      "text/plain": [
       "Text(0, 0.5, '$\\\\xi_0(s)$  [Mpc/$h$]')"
      ]
     },
     "execution_count": 55,
     "metadata": {},
     "output_type": "execute_result"
    },
    {
     "data": {
      "image/png": "[encoded data removed]",
      "text/plain": [
       "<Figure size 432x288 with 1 Axes>"
      ]
     },
     "metadata": {
      "needs_background": "light"
     },
     "output_type": "display_data"
    }
   ],
   "source": [
    "pl.plot(landy['r'], landy['xi'])\n",
    "\n",
    "pl.xlabel(r'$s$  [Mpc/$h$]')\n",
    "pl.ylabel(r'$\\xi_0(s)$  [Mpc/$h$]')"
   ]
  },
  {
   "cell_type": "markdown",
   "metadata": {},
   "source": [
    "####  Done."
   ]
  }
 ],
 "metadata": {
  "kernelspec": {
   "display_name": "NBODYKIT",
   "language": "python",
   "name": "nbodykit"
  },
  "language_info": {
   "codemirror_mode": {
    "name": "ipython",
    "version": 3
   },
   "file_extension": ".py",
   "mimetype": "text/x-python",
   "name": "python",
   "nbconvert_exporter": "python",
   "pygments_lexer": "ipython3",
   "version": "3.6.8"
  }
 },
 "nbformat": 4,
 "nbformat_minor": 2
}
