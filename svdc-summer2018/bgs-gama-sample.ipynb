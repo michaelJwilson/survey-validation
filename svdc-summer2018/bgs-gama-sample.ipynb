{
 "cells": [
  {
   "cell_type": "markdown",
   "metadata": {},
   "source": [
    "# Survey Validation Data Challenge - Summer 2018\n",
    "\n",
    "### Notebook 1 -- Generate a BGS/GAMA Parent Sample\n",
    "\n",
    "The purpose of this notebook is to generate a BGS-like sample from existing GAMA observations.  We use GAMA targets and field centers, GAMA/SDSS spectroscopic redshifts, and Legacy Surveys photometry.\n",
    "\n",
    "* Run on 18.12\n",
    "\n",
    "* Currently missing kcorrection files for GAMA sample. Cell 41 kcorr file, cell 51 for associated QA."
   ]
  },
  {
   "cell_type": "code",
   "execution_count": null,
   "metadata": {},
   "outputs": [],
   "source": [
    "import os, time, warnings\n",
    "\n",
    "import numpy             as np\n",
    "import numpy.ma          as ma\n",
    "import matplotlib.pyplot as plt"
   ]
  },
  {
   "cell_type": "code",
   "execution_count": null,
   "metadata": {},
   "outputs": [],
   "source": [
    "import fitsio\n",
    "\n",
    "from   astropy.table    import Table, Column\n",
    "from   desispec.io.util import write_bintable"
   ]
  },
  {
   "cell_type": "code",
   "execution_count": null,
   "metadata": {},
   "outputs": [],
   "source": [
    "import seaborn as sns\n",
    "sns.set(style='ticks', font_scale=1.6, palette='Set2')"
   ]
  },
  {
   "cell_type": "code",
   "execution_count": null,
   "metadata": {},
   "outputs": [],
   "source": [
    "%matplotlib inline"
   ]
  },
  {
   "cell_type": "code",
   "execution_count": null,
   "metadata": {},
   "outputs": [],
   "source": [
    "print(\"Starting at {}\".format(time.asctime()))\n",
    "notebook_start_time = time.time()"
   ]
  },
  {
   "cell_type": "markdown",
   "metadata": {},
   "source": [
    "#### Specify whether the output catalog should be overwritten.\n",
    "\n",
    "If *overwrite_sample=True* all the output files and plots will be recreated."
   ]
  },
  {
   "cell_type": "code",
   "execution_count": null,
   "metadata": {},
   "outputs": [],
   "source": [
    "overwrite_sample = True"
   ]
  },
  {
   "cell_type": "markdown",
   "metadata": {},
   "source": [
    "### Define the top-level base (output) directory\n",
    "\n",
    "We assume that *basedir* already has the appropriate GAMA catalogs downloaded.  See `${DESI_ROOT}/datachallenge/svdc-summer2018/GAMA-DR3/README` for details."
   ]
  },
  {
   "cell_type": "code",
   "execution_count": null,
   "metadata": {},
   "outputs": [],
   "source": [
    "basedir    = os.path.join(os.getenv('SCRATCH'), 'svdc-summer2018')\n",
    "gamadir    = os.path.join(os.getenv('DESI_ROOT'), 'datachallenge', 'svdc-summer2018', 'GAMA-DR3')\n",
    "\n",
    "samplefile = os.path.join(basedir, 'bgs-gama-sample.fits')"
   ]
  },
  {
   "cell_type": "markdown",
   "metadata": {},
   "source": [
    "### Read the parent GAMA catalogs.\n",
    "\n",
    "We use [SpecObj](http://www.gama-survey.org/dr3/schema/table.php?id=31) from GAMA/DR3 as the baseline parent catalog and use the measured emission-line fluxes and equivalent widths from the [GaussFitSimple](http://www.gama-survey.org/dr3/schema/table.php?id=40) catalog.\n",
    "\n",
    "We also assign field names (G02, G09, G12, G15, and G23) to all targets based on simple RA, Dec cuts (see [Liske et al. 2015](https://arxiv.org/abs/1506.08222) and [Baldry et al. 2017](https://arxiv.org/abs/1711.09139)).  \n",
    "\n",
    "Finally, note that we divide the G02 field into G02_ALL (\"all\" targets\") and the spectroscopically complete portion, G02 (bounded by -6<Dec<4)."
   ]
  },
  {
   "cell_type": "code",
   "execution_count": null,
   "metadata": {},
   "outputs": [],
   "source": [
    "print(basedir)\n",
    "print(gamadir)\n",
    "print(samplefile)"
   ]
  },
  {
   "cell_type": "code",
   "execution_count": null,
   "metadata": {},
   "outputs": [],
   "source": [
    "def get_absmag(gama, H0=70, Om0=0.3):\n",
    "    \"\"\"\n",
    "    Compute absolute magnitudes from the SDSS photometry and \n",
    "    pre-computed K-corrections.\n",
    "    \n",
    "    **This function is deprecated as we compute K-corrections ourselves.**\n",
    "    \n",
    "    \"\"\"\n",
    "    from astropy.cosmology import FlatLambdaCDM\n",
    "    cosmo = FlatLambdaCDM(H0=H0, Om0=Om0)\n",
    "\n",
    "    # New columns\n",
    "    for band in ('U', 'G', 'R', 'I', 'Z'):\n",
    "        gama.add_column(Column(name='MABS_{}'.format(band), dtype='f4', length=len(gama)))\n",
    "\n",
    "    # Require good, positive redshifts, good photometry, and good K-corrections\n",
    "    good = ~gama['Z'].mask * (ma.getdata(gama['Z']) > 0)\n",
    "    \n",
    "    for band in ('U', 'G', 'R','I', 'Z'):\n",
    "        good *= ~gama['MODELMAG_{}'.format(band)].mask\n",
    "        good *= ~gama['KCORR_{}'.format(band)].mask\n",
    "    \n",
    "    gama = gama[good]\n",
    "    \n",
    "    print('Computing absolute magnitudes for {} objects with z>0 and good photometry.'.format(len(gama)))\n",
    "\n",
    "    DM = cosmo.distmod(gama['Z'].data).value\n",
    "\n",
    "    for band in ('U', 'G', 'R', 'I', 'Z'):\n",
    "        kcorr = ma.getdata(gama['KCORR_{}'.format(band)])\n",
    "        mag = ma.getdata(gama['MODELMAG_{}'.format(band)])\n",
    "        gama['MABS_{}'.format(band)] = mag - kcorr - DM\n",
    "        \n",
    "    # Clean up a bit...\n",
    "    gama.remove_columns(['KCORR_U', 'KCORR_G', 'KCORR_R', 'KCORR_I', 'KCORR_Z'])\n",
    "\n",
    "    return gama"
   ]
  },
  {
   "cell_type": "code",
   "execution_count": null,
   "metadata": {},
   "outputs": [],
   "source": [
    "def read_all_gama(overwrite=False):\n",
    "    \"\"\"\n",
    "    Read all the GAMA/DR3 catalogs.\n",
    "    \"\"\"\n",
    "    from astropy.table import join\n",
    "    \n",
    "    with warnings.catch_warnings():\n",
    "        warnings.simplefilter(\"ignore\")\n",
    "\n",
    "        # Spectroscopic redshifts\n",
    "        specobjfile = os.path.join(gamadir, 'SpecObj.fits')\n",
    "        specobj = Table.read(specobjfile)\n",
    "        \n",
    "        print('Read {} objects from {}'.format(len(specobj), specobjfile))    \n",
    "    \n",
    "        #photfile = os.path.join(gamadir, 'InputCatA.fits')\n",
    "        #phot = Table(fitsio.read(photfile, columns=['CATAID', 'OBJID', 'TYPE', 'PSFMAG_R', 'FIBERMAG_R', \n",
    "        #                                            'PETRORAD_R', 'MODELMAG_U', 'MODELMAG_G', \n",
    "        #                                            'MODELMAG_R', 'MODELMAG_I', 'MODELMAG_Z'], ext=1))\n",
    "        #print('Read {} objects from {}'.format(len(phot), photfile))\n",
    "    \n",
    "        #kcorrfile = os.path.join(gamadir, 'kcorr_model_z01.fits')\n",
    "        #kcorr = Table(fitsio.read(kcorrfile, columns=['CATAID', 'KCORR_U', 'KCORR_G', \n",
    "        #                                              'KCORR_R', 'KCORR_I', 'KCORR_Z'], ext=1))\n",
    "        #print('Read {} objects from {}'.format(len(kcorr), kcorrfile))\n",
    "        \n",
    "        # Emission lines\n",
    "        gaussfitfile = os.path.join(gamadir, 'GaussFitSimple.fits')\n",
    "        gg = fitsio.FITS(gaussfitfile)\n",
    "        these = gg[1].where('is_best')\n",
    "        gaussfit = Table(gg[1][these])\n",
    "        gaussfit = gaussfit[['CATAID', 'D4000N', 'HB_EW', 'HA_EW']]\n",
    "        print('Read {} (unique) objects from {}'.format(len(gaussfit), gaussfitfile))\n",
    "\n",
    "        # Join all the catalogs\n",
    "        #gama = join(specobj, kcorr, join_type='left', keys='CATAID')\n",
    "        #gama = join(gama, phot, join_type='left', keys='CATAID')\n",
    "        gama = join(specobj, gaussfit, join_type='left', keys='CATAID')\n",
    "        \n",
    "        # Compute absolute magnitudes\n",
    "        # gama = get_absmag(gama)\n",
    "                \n",
    "        # Add field names -- see Table 1 in Liske et al. 2015\n",
    "        gama.add_column(Column(name='FIELD', dtype='U9', length=len(gama)))\n",
    "\n",
    "        g02 = ( (gama['RA'] >= 30.2) * (gama['RA'] <= 38.8) * \n",
    "               (gama['DEC'] >= -6.0) * (gama['DEC'] <= -4) )\n",
    "        g02_other = ( (gama['RA'] >= 30.2) * (gama['RA'] <= 38.8) * \n",
    "               (gama['DEC'] >= -10.25) * (gama['DEC'] <= -3.72) )\n",
    "        g09 = ( (gama['RA'] >= 129) * (gama['RA'] <= 141) * \n",
    "               (gama['DEC'] >= -2) * (gama['DEC'] <= 3) )\n",
    "        g12 = ( (gama['RA'] >= 174) * (gama['RA'] <= 186) * \n",
    "               (gama['DEC'] >= -3) * (gama['DEC'] <= 2) )\n",
    "        g15 = ( (gama['RA'] >= 211.5) * (gama['RA'] <= 223.5) * \n",
    "               (gama['DEC'] >= -2) * (gama['DEC'] <= 3) )\n",
    "        #g23 = ( (gama['RA'] >= 339) * (gama['RA'] <= 351) * \n",
    "        #       (gama['DEC'] >= -35) * (gama['DEC'] <= -30) )\n",
    "        \n",
    "        gama['FIELD'] = 'NONE'\n",
    "        gama['FIELD'][g02_other] = 'G02_OTHER'\n",
    "        gama['FIELD'][g02] = 'G02'\n",
    "        gama['FIELD'][g09] = 'G09'\n",
    "        gama['FIELD'][g12] = 'G12'\n",
    "        gama['FIELD'][g15] = 'G15'\n",
    "        #gama['FIELD'][g23] = 'G23'\n",
    "\n",
    "        if overwrite:\n",
    "            gamafile = os.path.join(basedir, 'gama-dr3.fits')\n",
    "            print('Writing {} objects to {}'.format(len(gama), gamafile))\n",
    "            #gama.write(gamafile, overwrite=overwrite)\n",
    "            write_bintable(gamafile, gama, clobber=overwrite, extname='GAMA-DR3')\n",
    "                \n",
    "    return gama"
   ]
  },
  {
   "cell_type": "code",
   "execution_count": null,
   "metadata": {},
   "outputs": [],
   "source": [
    "allgama = read_all_gama(overwrite=overwrite_sample)\n",
    "allgama"
   ]
  },
  {
   "cell_type": "code",
   "execution_count": null,
   "metadata": {},
   "outputs": [],
   "source": [
    "def qa_radec_allgama(allgama, overwrite=False):\n",
    "    fig, ax = plt.subplots(figsize=(9, 7))\n",
    "\n",
    "    for field in sorted(set(allgama['FIELD'])):\n",
    "        these = field == allgama['FIELD']\n",
    "        print('{} N={}'.format(field, np.sum(these)))\n",
    "        label = '{} (N={})'.format(field, np.sum(these))\n",
    "        ax.scatter(allgama['RA'][these], allgama['DEC'][these], s=1, \n",
    "                   marker='s', label=label)\n",
    "    \n",
    "    ax.set_xlabel('RA')\n",
    "    ax.set_ylabel('Dec')\n",
    "    ax.invert_xaxis()\n",
    "    ax.legend(loc='lower left', markerscale=10, ncol=2)\n",
    "    ax.set_title('All GAMA Fields (N={})'.format(len(allgama)))\n",
    "    fig.tight_layout()\n",
    "    \n",
    "    if overwrite:\n",
    "        if not os.path.exists(os.path.join(basedir, 'qaplots')):\n",
    "          os.makedirs(os.path.join(basedir, 'qaplots'))\n",
    "        \n",
    "        pngfile = os.path.join(basedir, 'qaplots', 'qa-radec-allgama.png')\n",
    "        print('Writing {}'.format(pngfile))\n",
    "        fig.savefig(pngfile)"
   ]
  },
  {
   "cell_type": "code",
   "execution_count": null,
   "metadata": {},
   "outputs": [],
   "source": [
    "qa_radec_allgama(allgama, overwrite=overwrite_sample)"
   ]
  },
  {
   "cell_type": "markdown",
   "metadata": {},
   "source": [
    "### Select galaxies with good redshifts and Legacy Survey photometry and K-corrections."
   ]
  },
  {
   "cell_type": "code",
   "execution_count": null,
   "metadata": {},
   "outputs": [],
   "source": [
    "faintcut = 20 # [DECaLS r-band, extinction-corrected]"
   ]
  },
  {
   "cell_type": "code",
   "execution_count": null,
   "metadata": {},
   "outputs": [],
   "source": [
    "def gama_legacysurvey_sample(allgama, faintcut=20, overwrite=False):\n",
    "    \"\"\"\n",
    "    Select galaxies with good redshifts and Legacy Survey photometry.\n",
    "    \"\"\"\n",
    "    from astropy.table import join\n",
    "\n",
    "    #truthdir = os.path.join(os.getenv('DESI_ROOT'), 'target', 'analysis', 'truth')\n",
    "    \n",
    "    def match_legacysurvey(allgama):\n",
    "        \"\"\"\n",
    "        Read the GAMA/DR3 catalog matched to LegacySurvey/DR5.\n",
    "        \"\"\"\n",
    "        matchdir  = '/project/projectdirs/desi/target/analysis/truth/dr7.1/matched' \n",
    "        gamafile  = os.path.join(matchdir, 'GAMA-DR3-SpecObj-match.fits')\n",
    "        #gamafile = os.path.join(truthdir, 'dr5.0', 'trimmed', 'GAMA-DR3-SpecObj-trim.fits')\n",
    "        cataid    = fitsio.read(gamafile, columns='CATAID', ext=1)\n",
    "\n",
    "        lsfile    = os.path.join(matchdir, 'ls-dr7.1-GAMA-DR3-SpecObj-match.fits')\n",
    "        #lsfile   = os.path.join(gamadir, 'decals-dr7.1-GAMA-DR3-SpecObj-match.fits')\n",
    "        #lsfile   = os.path.join(truthdir, 'dr5.0', 'trimmed', 'decals-dr5.0-GAMA-DR3-SpecObj-trim.fits')\n",
    "        ls        = Table(fitsio.read(lsfile, ext=1))\n",
    "        \n",
    "        ls.add_column(Column(name='CATAID', data=cataid))\n",
    "        \n",
    "        print('Read {} objects from {}'.format(len(ls), lsfile))\n",
    "        '''\n",
    "        kcorrfile = os.path.join(gamadir, 'decals-dr7.1-GAMA-DR3-SpecObj-match-kcorr.fits')\n",
    "        kcorr     = Table(fitsio.read(kcorrfile, ext=1))\n",
    "        kcorr.remove_column('Z') # we already have it\n",
    "        print('Read {} objects from {}'.format(len(kcorr), kcorrfile))\n",
    "    \n",
    "        print('Adding Legacy Survey photometry and K-corrections for {} GAMA objects.'.format(len(allgama)))\n",
    "        '''\n",
    "        lsgama = join(allgama, ls, join_type='left', keys='CATAID')\n",
    "        #lsgama = join(lsgama, kcorr, join_type='left', keys='CATAID')\n",
    "        \n",
    "        lsgama.rename_column('RA_1', 'RA_GAMA')\n",
    "        lsgama.rename_column('DEC_1', 'DEC_GAMA')\n",
    "        lsgama.rename_column('RA_2', 'RA')\n",
    "        lsgama.rename_column('DEC_2', 'DEC')\n",
    "\n",
    "        return lsgama\n",
    "        \n",
    "    \n",
    "    # Read and match to the Legacy Survey photometry.\n",
    "    alllsgama = match_legacysurvey(allgama)\n",
    "    \n",
    "    cut = ( (alllsgama['NQ'] >= 3) * (alllsgama['Z'] > 0.01) * (alllsgama['Z'] < 1) * \n",
    "           (alllsgama['FIELD'] != 'G02_OTHER') * (alllsgama['FIELD'] != 'NONE') *\n",
    "           #(alllsgama['MASS'] > 0) * \n",
    "           #(alllsgama['HB_EW'] > 0) * (alllsgama['D4000N'] > 0) *\n",
    "           (alllsgama['FLUX_R'] / alllsgama['MW_TRANSMISSION_R']) > 10**((22.5 - faintcut) / 2.5) )\n",
    "    \n",
    "    lsgama = alllsgama[cut]\n",
    "\n",
    "    print('Selecting {} objects with NQ>=3, 0.01<z<1, and r<{:.1f} in the G02, G09, G12, and G15 fields.'.format(\n",
    "        np.sum(cut), faintcut))\n",
    "    \n",
    "    if overwrite:\n",
    "        print('Writing {} GAMA objects to {}'.format(len(lsgama), samplefile))\n",
    "        #lsgama.write(samplefile, overwrite=overwrite)\n",
    "        write_bintable(samplefile, lsgama, clobber=overwrite, extname='GAMA-DR3')\n",
    "    \n",
    "    return lsgama"
   ]
  },
  {
   "cell_type": "code",
   "execution_count": null,
   "metadata": {},
   "outputs": [],
   "source": [
    "lsgama = gama_legacysurvey_sample(allgama, faintcut=faintcut, overwrite=overwrite_sample)"
   ]
  },
  {
   "cell_type": "code",
   "execution_count": null,
   "metadata": {},
   "outputs": [],
   "source": [
    "print(lsgama)"
   ]
  },
  {
   "cell_type": "code",
   "execution_count": null,
   "metadata": {},
   "outputs": [],
   "source": [
    "def qa_gama_sample(lsgama, faintcut=20, overwrite=False):\n",
    "    \"\"\"\n",
    "    Visualize the magnitude and redshift distributions.\n",
    "    \"\"\"\n",
    "    def get_rmag(cat):\n",
    "        return 22.5 - 2.5 * np.log10(cat['FLUX_R'] / cat['MW_TRANSMISSION_R'])\n",
    "        \n",
    "    rmag = get_rmag(lsgama)\n",
    "    \n",
    "    fig, (ax1, ax2, ax3) = plt.subplots(1, 3, figsize=(14, 4))\n",
    "\n",
    "    _colors = iter(sns.color_palette())\n",
    "    for field in sorted(set(lsgama['FIELD'])):\n",
    "        these = field == lsgama['FIELD']\n",
    "        ax1.hist(lsgama['Z'][these], bins=50, range=(0, 1), label='{} (N={})'.format(field, np.sum(these)),\n",
    "                 histtype='step', lw=2, color=next(_colors))\n",
    "    ax1.set_xlabel('GAMA Redshift')\n",
    "    ax1.set_ylabel('Number of Objects')\n",
    "    #ax1.legend(loc='upper right', fontsize=14)\n",
    "    \n",
    "    _colors = iter(sns.color_palette())\n",
    "    for field in sorted(set(lsgama['FIELD'])):\n",
    "        these = field == lsgama['FIELD']\n",
    "        ax2.hist(rmag[these], bins=50, range=(13, 20.5), label='{} (N={})'.format(field, np.sum(these)),\n",
    "                 histtype='step', lw=2, color=next(_colors))\n",
    "    ax2.set_xlabel(r'$r_{cor}$ (DECaLS, AB mag)')\n",
    "    ax2.set_ylabel('Number of Objects')\n",
    "    ax2.legend(loc='upper left', fontsize=12)\n",
    "    ax2.axvline(x=faintcut, color='k', ls='--')\n",
    "    \n",
    "    ax3.scatter(lsgama['Z'], rmag, s=1, color='gray')\n",
    "    ax3.set_xlabel('GAMA Redshift')\n",
    "    ax3.set_ylabel(r'$r_{cor}$ (DECaLS, AB mag)')\n",
    "    ax3.set_ylim(13, 20.5)\n",
    "    ax3.axhline(y=faintcut, color='k', ls='--')\n",
    "    \n",
    "    fig.subplots_adjust(wspace=0.35)\n",
    "    fig.tight_layout()\n",
    "    \n",
    "    if overwrite:\n",
    "        pngfile = os.path.join(basedir, 'qaplots', 'qa-gama-zhist.png')\n",
    "        print('Writing {}'.format(pngfile))\n",
    "        fig.savefig(pngfile)"
   ]
  },
  {
   "cell_type": "code",
   "execution_count": null,
   "metadata": {},
   "outputs": [],
   "source": [
    "qa_gama_sample(lsgama, faintcut=faintcut, overwrite=overwrite_sample)"
   ]
  },
  {
   "cell_type": "markdown",
   "metadata": {},
   "source": [
    "### Generate some additional spectroscopic QA plots."
   ]
  },
  {
   "cell_type": "code",
   "execution_count": null,
   "metadata": {},
   "outputs": [],
   "source": [
    "def qa_gama_spec(lsgama, overwrite=False):\n",
    "\n",
    "    good = (lsgama['HB_EW'] > 0) * (lsgama['D4000N'] > 0)\n",
    "    ewhb = np.log10(lsgama['HB_EW'][good])\n",
    "    d4000 = lsgama['D4000N'][good]\n",
    "    \n",
    "    fig, ax = plt.subplots()\n",
    "    ax.scatter(d4000, ewhb, s=3)\n",
    "    ax.set_xlim(0.6, 2.5)\n",
    "    ax.set_ylim(-1, 2)\n",
    "    ax.set_xlabel(r'$D_{n}(4000)$')\n",
    "    ax.set_ylabel(r'$\\log_{10}$ EW(H$\\beta$) ($\\AA$)')\n",
    "\n",
    "    fig.tight_layout()\n",
    "    \n",
    "    if overwrite:\n",
    "        pngfile = os.path.join(basedir, 'qaplots', 'qa-d4000-ewhb.png')\n",
    "        print('Writing {}'.format(pngfile))\n",
    "        fig.savefig(pngfile)"
   ]
  },
  {
   "cell_type": "code",
   "execution_count": null,
   "metadata": {},
   "outputs": [],
   "source": [
    "def qa_colormag(lsgama, overwrite=False):\n",
    "    Mr = lsgama['UGRIZ_ABSMAG_01'][:, 2]\n",
    "    gr = lsgama['UGRIZ_ABSMAG_01'][:, 1] - Mr\n",
    "    \n",
    "    fig, ax = plt.subplots(figsize=(8, 5))\n",
    "    hb = ax.hexbin(Mr, gr, mincnt=3, bins='log', gridsize=50, \n",
    "                   extent=(-14, -25, -0.2, 1.5), cmap='Blues_r')\n",
    "    ax.set_xlim(-14, -25)\n",
    "    ax.set_ylim(-0.2, 1.5)\n",
    "    ax.set_xlabel(r'$M_{0.1r}$')\n",
    "    ax.set_ylabel(r'$^{0.1}(g-r)$')\n",
    "    cb = fig.colorbar(hb)\n",
    "    cb.set_label(r'$\\log_{10}$ (Number of Galaxies)')\n",
    "\n",
    "    fig.tight_layout()\n",
    "    if overwrite:\n",
    "        pngfile = os.path.join(basedir, 'qaplots', 'qa-colormag.png')\n",
    "        print('Writing {}'.format(pngfile))\n",
    "        fig.savefig(pngfile)"
   ]
  },
  {
   "cell_type": "code",
   "execution_count": null,
   "metadata": {},
   "outputs": [],
   "source": [
    "# qa_colormag(lsgama, overwrite=overwrite_sample)"
   ]
  },
  {
   "cell_type": "code",
   "execution_count": null,
   "metadata": {},
   "outputs": [],
   "source": [
    "qa_gama_spec(lsgama, overwrite=overwrite_sample)"
   ]
  },
  {
   "cell_type": "code",
   "execution_count": null,
   "metadata": {},
   "outputs": [],
   "source": [
    "print('Done.')"
   ]
  }
 ],
 "metadata": {
  "anaconda-cloud": {},
  "kernelspec": {
   "display_name": "DESI master",
   "language": "python",
   "name": "desi-master"
  },
  "language_info": {
   "codemirror_mode": {
    "name": "ipython",
    "version": 3
   },
   "file_extension": ".py",
   "mimetype": "text/x-python",
   "name": "python",
   "nbconvert_exporter": "python",
   "pygments_lexer": "ipython3",
   "version": "3.6.6"
  }
 },
 "nbformat": 4,
 "nbformat_minor": 2
}
